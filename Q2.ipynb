{
  "nbformat": 4,
  "nbformat_minor": 0,
  "metadata": {
    "colab": {
      "name": "Q2.ipynb",
      "provenance": [],
      "collapsed_sections": [],
      "toc_visible": true,
      "include_colab_link": true
    },
    "kernelspec": {
      "name": "python3",
      "display_name": "Python 3"
    }
  },
  "cells": [
    {
      "cell_type": "markdown",
      "metadata": {
        "id": "view-in-github",
        "colab_type": "text"
      },
      "source": [
        "<a href=\"https://colab.research.google.com/github/Otitoaleke/data_incubator_challenge/blob/master/Q2.ipynb\" target=\"_parent\"><img src=\"https://colab.research.google.com/assets/colab-badge.svg\" alt=\"Open In Colab\"/></a>"
      ]
    },
    {
      "cell_type": "markdown",
      "metadata": {
        "id": "jiPMGtm8eCoS",
        "colab_type": "text"
      },
      "source": [
        "# Number 2"
      ]
    },
    {
      "cell_type": "markdown",
      "metadata": {
        "id": "IlO-HfpD9CFO",
        "colab_type": "text"
      },
      "source": [
        "## Import libraries"
      ]
    },
    {
      "cell_type": "code",
      "metadata": {
        "id": "HP1XfSc58z_F",
        "colab_type": "code",
        "colab": {}
      },
      "source": [
        "import os\n",
        "import numpy as np\n",
        "import pandas as pd\n",
        "import math\n",
        "import scipy.stats"
      ],
      "execution_count": 0,
      "outputs": []
    },
    {
      "cell_type": "markdown",
      "metadata": {
        "id": "d9VcT5ZT96eF",
        "colab_type": "text"
      },
      "source": [
        "## Import the dataset"
      ]
    },
    {
      "cell_type": "code",
      "metadata": {
        "id": "GUXny5Vs-yOU",
        "colab_type": "code",
        "outputId": "15fa3874-e289-4638-b9eb-976a97452779",
        "colab": {
          "base_uri": "https://localhost:8080/",
          "height": 122
        }
      },
      "source": [
        "from google.colab import drive\n",
        "drive.mount('/content/drive')"
      ],
      "execution_count": 4,
      "outputs": [
        {
          "output_type": "stream",
          "text": [
            "Go to this URL in a browser: https://accounts.google.com/o/oauth2/auth?client_id=947318989803-6bn6qk8qdgf4n4g3pfee6491hc0brc4i.apps.googleusercontent.com&redirect_uri=urn%3aietf%3awg%3aoauth%3a2.0%3aoob&response_type=code&scope=email%20https%3a%2f%2fwww.googleapis.com%2fauth%2fdocs.test%20https%3a%2f%2fwww.googleapis.com%2fauth%2fdrive%20https%3a%2f%2fwww.googleapis.com%2fauth%2fdrive.photos.readonly%20https%3a%2f%2fwww.googleapis.com%2fauth%2fpeopleapi.readonly\n",
            "\n",
            "Enter your authorization code:\n",
            "··········\n",
            "Mounted at /content/drive\n"
          ],
          "name": "stdout"
        }
      ]
    },
    {
      "cell_type": "code",
      "metadata": {
        "id": "G3UezKPU_P5U",
        "colab_type": "code",
        "colab": {}
      },
      "source": [
        "df = pd.read_csv(\"/content/drive/My Drive/Colab Notebooks/PartD_Prescriber_PUF_NPI_17.txt\", sep='\\t')\n",
        "data_list = df.values.tolist()"
      ],
      "execution_count": 0,
      "outputs": []
    },
    {
      "cell_type": "code",
      "metadata": {
        "id": "m8j9m9jBBg5i",
        "colab_type": "code",
        "colab": {}
      },
      "source": [
        "def extract(index, data_list):\n",
        "    column = []    \n",
        "    for row in data_list[0:]:\n",
        "        #print(row)\n",
        "        value = row[index]\n",
        "        column.append(value)    \n",
        "    return column"
      ],
      "execution_count": 0,
      "outputs": []
    },
    {
      "cell_type": "code",
      "metadata": {
        "id": "xspo5c6GAvvB",
        "colab_type": "code",
        "outputId": "aff3dffa-0d45-4d9d-b87a-2112d89fac7c",
        "colab": {
          "base_uri": "https://localhost:8080/",
          "height": 34
        }
      },
      "source": [
        "bene_count = extract(21, data_list)\n",
        "\n",
        "print(type(bene_count))\n",
        "counted_bene_count = []"
      ],
      "execution_count": 7,
      "outputs": [
        {
          "output_type": "stream",
          "text": [
            "<class 'list'>\n"
          ],
          "name": "stdout"
        }
      ]
    },
    {
      "cell_type": "markdown",
      "metadata": {
        "id": "fMMM-hCve8aU",
        "colab_type": "text"
      },
      "source": [
        "In 2017, what was the average number of beneficiaries per provider? Due to the suppression of data for those with few beneficiaries, we can only include those with more than 10 beneficiaries. "
      ]
    },
    {
      "cell_type": "code",
      "metadata": {
        "id": "gNZIMfpc5BgW",
        "colab_type": "code",
        "outputId": "1a446253-b702-459d-d073-3f58cfbfd24d",
        "colab": {
          "base_uri": "https://localhost:8080/",
          "height": 34
        }
      },
      "source": [
        "def average_bene_count():\n",
        "    for item in bene_count:\n",
        "        entry = float(item)\n",
        "        if math.isnan(entry) == False:\n",
        "            counted_bene_count.append(entry)\n",
        "    #print(counted_bene_count)\n",
        "    average_no_of_bene = sum(counted_bene_count)/len(counted_bene_count)\n",
        "    return(average_no_of_bene)\n",
        "\n",
        "print(average_bene_count())"
      ],
      "execution_count": 8,
      "outputs": [
        {
          "output_type": "stream",
          "text": [
            "158.3494585173676\n"
          ],
          "name": "stdout"
        }
      ]
    },
    {
      "cell_type": "code",
      "metadata": {
        "id": "hclXNpPRCJjn",
        "colab_type": "code",
        "outputId": "51b063bf-eaf5-4a90-ad49-b791e2bc5bba",
        "colab": {
          "base_uri": "https://localhost:8080/",
          "height": 54
        }
      },
      "source": [
        "specialty_collate = {}\n",
        "\n",
        "for row in data_list:\n",
        "    specialty = row[14]\n",
        "    if math.isnan(row[30]) == False:\n",
        "        if specialty in specialty_collate:\n",
        "            specialty_collate[specialty]= [specialty_collate[specialty][0] + row[17], specialty_collate[specialty][1]+ row[30]]\n",
        "        else:\n",
        "            specialty_collate[specialty]= [ row[17], row[30]]\n",
        "print(specialty_collate)\n",
        "\n"
      ],
      "execution_count": 9,
      "outputs": [
        {
          "output_type": "stream",
          "text": [
            "{'Anesthesiology': [4019265, 503470.0], 'Dentist': [4831577, 28921.0], 'Nurse Practitioner': [118407806, 20649117.0], 'Obstetrics & Gynecology': [4447604, 1145624.0], 'Family Practice': [384422806, 63474840.0], 'Internal Medicine': [387399715, 68484105.0], 'Pharmacist': [704362, 243550.0], 'Physician Assistant': [52820166, 8996999.0], 'Dermatology': [7036366, 948739.0], 'Physical Medicine and Rehabilitation': [5072358, 635283.0], 'Radiation Oncology': [342559, 50277.0], 'Infectious Disease': [3657751, 1417327.0], 'Endocrinology': [15807873, 7076382.0], 'Urology': [6640157, 1089548.0], 'Psychiatry': [35747415, 3312789.0], 'Rheumatology': [6843804, 1383854.0], 'Orthopedic Surgery': [4555240, 299351.0], 'Neurology': [17306834, 2856706.0], 'Nephrology': [10616530, 2341398.0], 'Preventive Medicine': [284382, 61695.0], 'Orthopaedic Surgery': [72860, 9255.0], 'Ophthalmology': [26266481, 12851012.0], 'Pulmonary Disease': [12578242, 6588768.0], 'Otolaryngology': [4171859, 444614.0], 'Plastic and Reconstructive Surgery': [260586, 32454.0], 'General Practice': [29175520, 4696150.0], 'Cardiology': [51509130, 10222462.0], 'Psychiatry & Neurology': [4324449, 466957.0], 'Emergency Medicine': [11468183, 1645244.0], 'Interventional Cardiology': [7820480, 1517602.0], 'General Surgery': [2853789, 442272.0], 'Diagnostic Radiology': [214196, 43881.0], 'Geriatric Medicine': [10259815, 1927860.0], 'Neurosurgery': [482120, 38063.0], 'Gastroenterology': [7778417, 2027400.0], 'Interventional Radiology': [92493, 13967.0], 'Oral Surgery (Dentist only)': [519463, 5850.0], 'Podiatry': [2920242, 345626.0], 'Pediatric Medicine': [2087974, 376947.0], 'Optometry': [6019168, 2940025.0], 'Hematology-Oncology': [5077306, 1097092.0], 'Student in an Organized Health Care Education/Training Program': [3076496, 580744.0], 'Exclusive Provider Organization': [461, 55.0], 'Medical Oncology': [1505597, 314262.0], 'Allergy/ Immunology': [2519053, 883748.0], 'Pain Management': [3715838, 436813.0], 'Specialist': [531917, 99512.0], 'Certified Clinical Nurse Specialist': [2442097, 303049.0], 'Neuropsychiatry': [591439, 66882.0], 'Naturopath': [43952, 9595.0], 'Advanced Heart Failure and Transplant Cardiology': [4552, 803.0], 'Osteopathic Manipulative Medicine': [812827, 148782.0], 'Vascular Surgery': [513778, 64906.0], 'Behavior Analyst': [2761, 303.0], 'Critical Care (Intensivists)': [906571, 470162.0], 'Thoracic Surgery': [225217, 38522.0], 'Clinical Cardiac Electrophysiology': [3074850, 829875.0], 'Community Health Worker': [28595, 4016.0], 'Psychologist, Clinical': [109657, 11166.0], 'Addiction Medicine': [178816, 44917.0], 'Cardiac Surgery': [247432, 39536.0], 'Hematology': [290610, 75462.0], 'Psychoanalyst': [2401, 252.0], 'Hand Surgery': [96646, 7045.0], 'Maxillofacial Surgery': [105469, 1981.0], 'Registered Nurse': [315513, 52988.0], 'Sports Medicine': [224423, 26683.0], 'Hospitalist': [1457124, 273762.0], 'Denturist': [354, 0.0], 'Surgical Oncology': [49554, 8058.0], 'Oral & Maxillofacial Surgery': [29689, 228.0], 'Chiropractic': [5111, 953.0], 'Certified Registered Nurse Anesthetist (CRNA)': [32928, 5512.0], 'Physical Medicine & Rehabilitation': [885, 128.0], 'Counselor': [55540, 4170.0], 'Hospital': [6553, 1077.0], 'Physical Therapist in Private Practice': [3316, 486.0], 'Neurological Surgery': [18693, 2011.0], 'Interventional Pain Management': [3371635, 401720.0], 'Certified Nurse Midwife': [80874, 17471.0], 'Sleep Medicine': [164779, 43841.0], 'Plastic Surgery': [15580, 1586.0], 'Colon & Rectal Surgery': [1491, 361.0], 'Colorectal Surgery (Proctology)': [210707, 55309.0], 'Family Medicine': [315079, 63850.0], 'Hospice and Palliative Care': [404291, 76804.0], 'Nuclear Medicine': [115041, 23429.0], 'Legal Medicine': [85484, 14292.0], 'Surgery': [6204, 976.0], 'Pathology': [76487, 15814.0], 'Undefined Physician type': [198932, 39793.0], 'Gynecological Oncology': [172002, 27274.0], 'Prosthetist': [236, 59.0], 'Personal Emergency Response Attendant': [13862, 2058.0], 'Licensed Clinical Social Worker': [3711, 350.0], 'Clinic/Center': [69762, 9961.0], 'Clinic or Group Practice': [114608, 19320.0], 'Licensed Practical Nurse': [12393, 2548.0], 'General Acute Care Hospital': [83863, 15321.0], 'Peripheral Vascular Disease': [52602, 10307.0], 'Neuromusculoskeletal Medicine, Sports Medicine': [7719, 1444.0], 'Psychologist': [5494, 747.0], 'Thoracic Surgery (Cardiothoracic Vascular Surgery)': [6540, 1416.0], 'Rehabilitation Agency': [18914, 3453.0], 'Midwife': [4163, 885.0], 'Radiology': [2029, 785.0], 'Doula': [12, 0.0], 'Independent Medical Examiner': [5487, 1001.0], 'Geriatric Psychiatry': [269127, 23602.0], 'Medical Genetics, Ph.D. Medical Genetics': [41394, 5432.0], 'Speech Language Pathologist': [443, 77.0], 'Physical Therapy Assistant': [107, 11.0], 'Case Manager/Care Coordinator': [500, 124.0], 'Technician/Technologist': [32, 0.0], 'Contractor': [1007, 153.0], 'Ambulatory Surgical Center': [596, 32.0], 'Clinical Pharmacology': [3399, 586.0], 'Technician, Cardiology': [18, 0.0], 'Mechanotherapist': [46, 18.0], 'Acupuncturist': [3254, 626.0], 'Medical Genetics': [749, 240.0], 'Marriage & Family Therapist': [521, 148.0], 'Anesthesiology Assistant': [1516, 697.0], 'Military Hospital': [488, 96.0], 'Health Educator': [98, 0.0], 'Clinical Neuropsychologist': [3473, 369.0], 'Rehabilitation Practitioner': [843, 61.0], 'Specialist/Technologist, Other': [164, 59.0], 'Military Health Care Provider': [2355, 528.0], 'Occupational Therapist in Private Practice': [927, 234.0], 'Social Worker': [874, 119.0], 'Other Medical Supply Company': [12, 0.0], 'Durable Medical Equipment & Medical Supplies': [159, 0.0], 'Community/Behavioral Health': [421, 27.0], 'Health Maintenance Organization': [7791, 1238.0], 'Emergency Medical Technician, Basic': [154, 29.0], 'Substance Abuse Rehabilitation Facility': [329, 42.0], 'Developmental Therapist': [540, 116.0], 'Nutritionist': [222, 34.0], 'Case Management': [37, 0.0], 'Massage Therapist': [108, 19.0], 'Homeopath': [715, 142.0], 'Assistant, Podiatric': [92, 23.0], 'Advanced Practice Dental Therapist': [59, 0.0], 'Occupational Therapy Assistant': [194, 11.0], 'Chore Provider': [329, 66.0], 'Emergency Medical Technician, Paramedic': [3276, 492.0], 'Chronic Disease Hospital': [841, 58.0], 'Unknown Supplier/Provider Specialty': [1671, 265.0], 'Specialist/Technologist': [347, 55.0], 'Specialist/Technologist, Pathology': [106, 24.0], 'Audiologist': [50, 0.0], 'Respiratory Therapist, Registered': [53, 17.0], 'Licensed Vocational Nurse': [902, 189.0], 'Dental Assistant': [146, 0.0], 'Preferred Provider Organization': [491, 120.0], 'Home Health Aide': [71, 25.0], 'Registered Dietitian or Nutrition Professional': [191, 41.0], 'Point of Service': [51, 18.0], 'Dental Hygienist': [107, 15.0], 'Pediatrics': [506, 43.0], 'Slide Preparation Facility': [468, 0.0], 'Phlebology': [6578, 1296.0], 'Voluntary Health or Charitable Agency': [100, 0.0], 'Mass Immunizer Roster Biller': [59, 59.0], \"Nurse's Aide\": [129, 35.0], 'Other Nursing Facility': [927, 161.0], 'Community Based Residential Treatment Facility, Mental Retardation and/or D': [13, 0.0], 'Driver': [8187, 904.0], 'Hearing Instrument Specialist': [110, 39.0], 'Religious Nonmedical Nursing Personnel': [244, 57.0], 'Respiratory Therapist, Certified': [46, 34.0], 'Pharmacy Technician': [159, 11.0], 'Public Health or Welfare Agency': [665, 117.0], 'Local Education Agency (LEA)': [15, 0.0], 'Veterinarian': [16, 0.0], 'Hematopoietic Cell Transplantation and Cellular Therapy': [11, 0.0], 'Genetic Counselor, MS': [13, 0.0], 'Oral Medicinist': [12, 0.0], 'Lactation Consultant, Non-RN': [22, 11.0]}\n"
          ],
          "name": "stdout"
        }
      ]
    },
    {
      "cell_type": "markdown",
      "metadata": {
        "id": "-6dF-9w0eOX_",
        "colab_type": "text"
      },
      "source": [
        "Work out for each Specialty the fraction of drug claims that are for brand-name drugs. Include only providers for whom the relevant information has not been suppressed, and consider only specialties with at least 1000 total claims. What is the standard deviation of these fractions? "
      ]
    },
    {
      "cell_type": "code",
      "metadata": {
        "id": "khyHVEhtCwcf",
        "colab_type": "code",
        "outputId": "4625f1ef-74e7-4812-e41d-0951d644b3ac",
        "colab": {
          "base_uri": "https://localhost:8080/",
          "height": 34
        }
      },
      "source": [
        "fractions = []\n",
        "for specialty in specialty_collate:\n",
        "    fractions.append(specialty_collate[specialty][1]/specialty_collate[specialty][0])\n",
        "\n",
        "#print(fractions)\n",
        "standard_deviation = np.std(fractions)\n",
        "print(standard_deviation)\n"
      ],
      "execution_count": 10,
      "outputs": [
        {
          "output_type": "stream",
          "text": [
            "0.13218193916228735\n"
          ],
          "name": "stdout"
        }
      ]
    },
    {
      "cell_type": "markdown",
      "metadata": {
        "id": "DaObTF7hspo4",
        "colab_type": "text"
      },
      "source": [
        "Let's find which states have surprisingly high supply of opioids, conditioned on specialty. Work out the average length of an opioid prescription for each provider. For each (state, specialty) pair with at least 100 providers, calculate the average of this value across all providers. Then find the ratio of this value to an equivalent quantity calculated from providers in each specialty across all states. What is the largest such ratio? "
      ]
    },
    {
      "cell_type": "code",
      "metadata": {
        "id": "zDVQRf1VstTR",
        "colab_type": "code",
        "outputId": "f21a8ac7-f389-4148-f979-a459869bc222",
        "colab": {
          "base_uri": "https://localhost:8080/",
          "height": 54
        }
      },
      "source": [
        "#average length of opioid prescription = Number of day's ssupply of all opioid drugs ( col 53) / total claims of opioid drugs (col 51)\n",
        "\n",
        "avg_len_op_pres = []\n",
        "for row in data_list:\n",
        "    if float(row[50]) != 0 and math.isnan(row[52]) == False: \n",
        "        avg_len_op_pres.append([row[0], float(row[52])/ float(row[50]), row[12], row[14]])\n",
        "\n",
        "print(avg_len_op_pres[:20])\n",
        "\n"
      ],
      "execution_count": 11,
      "outputs": [
        {
          "output_type": "stream",
          "text": [
            "[[1003000126, 5.36, 'MD', 'Internal Medicine'], [1003000142, 28.11346153846154, 'OH', 'Anesthesiology'], [1003000167, 2.5, 'NV', 'Dentist'], [1003000407, 19.4375, 'PA', 'Family Practice'], [1003000522, 27.4140625, 'FL', 'Family Practice'], [1003000530, 27.107142857142858, 'PA', 'Internal Medicine'], [1003000597, 4.9021739130434785, 'OK', 'Urology'], [1003000902, 19.833333333333332, 'KY', 'Family Practice'], [1003001256, 22.458333333333332, 'CO', 'Family Practice'], [1003001363, 29.817898832684826, 'CA', 'Anesthesiology'], [1003001462, 13.529411764705882, 'TX', 'Radiation Oncology'], [1003001587, 3.6956521739130435, 'CT', 'Physician Assistant'], [1003001785, 8.816666666666666, 'OK', 'Orthopedic Surgery'], [1003001884, 21.686274509803923, 'MI', 'Family Practice'], [1003002072, 3.6315789473684212, 'NJ', 'Urology'], [1003002312, 29.38401559454191, 'MA', 'Rheumatology'], [1003002320, 2.7777777777777777, 'MS', 'Dentist'], [1003002627, 4.7894736842105265, 'TX', 'Obstetrics & Gynecology'], [1003002643, 5.329896907216495, 'NY', 'Physician Assistant'], [1003002718, 8.176470588235293, 'CA', 'Radiation Oncology']]\n"
          ],
          "name": "stdout"
        }
      ]
    },
    {
      "cell_type": "code",
      "metadata": {
        "id": "I2ICVnGVDeT_",
        "colab_type": "code",
        "colab": {}
      },
      "source": [
        "specialty_group = {}\n",
        "for item in avg_len_op_pres:\n",
        "    specialty = item[3]\n",
        "\n",
        "    if specialty in specialty_group:\n",
        "        specialty_group[specialty].append(item[1])\n",
        "        \n",
        "    else:\n",
        "        specialty_group[specialty] = [(item[1])]\n",
        "       \n"
      ],
      "execution_count": 0,
      "outputs": []
    },
    {
      "cell_type": "code",
      "metadata": {
        "id": "rIIhz5lwJUSz",
        "colab_type": "code",
        "colab": {
          "base_uri": "https://localhost:8080/",
          "height": 54
        },
        "outputId": "fc3fe145-37e0-4a7b-849d-0bd0ed933658"
      },
      "source": [
        "#mean within specialty groups\n",
        "specialty_averages = {}\n",
        "\n",
        "for specialty in specialty_group:\n",
        "    specialty_averages[specialty] = np.mean(specialty_group[specialty])\n",
        "\n",
        "print(specialty_averages)"
      ],
      "execution_count": 38,
      "outputs": [
        {
          "output_type": "stream",
          "text": [
            "{'Internal Medicine': 20.114696914778843, 'Anesthesiology': 26.35699413678203, 'Dentist': 3.438102362780565, 'Family Practice': 21.992755004897322, 'Urology': 5.437192221967628, 'Radiation Oncology': 14.960836768598863, 'Physician Assistant': 13.08837191898743, 'Orthopedic Surgery': 10.57429379594073, 'Rheumatology': 29.936264154466322, 'Obstetrics & Gynecology': 8.415966619025125, 'Physical Medicine and Rehabilitation': 22.27229538956877, 'Nurse Practitioner': 18.209074729445287, 'Neurology': 25.829229953773623, 'Nephrology': 23.465568695447068, 'Otolaryngology': 6.137045025434806, 'Plastic and Reconstructive Surgery': 5.4007191075694605, 'General Practice': 20.823086727173344, 'Emergency Medicine': 4.519738430538658, 'General Surgery': 6.101177812341109, 'Geriatric Medicine': 20.95530338724627, 'Dermatology': 4.754060223389035, 'Pain Management': 27.092933361274348, 'Oral Surgery (Dentist only)': 3.4762465921585, 'Gastroenterology': 20.854250062735627, 'Podiatry': 8.772816351671626, 'Pulmonary Disease': 22.22334159250979, 'Hematology-Oncology': 21.173795201119972, 'Neurosurgery': 13.948984530993378, 'Ophthalmology': 4.429869280529249, 'Sports Medicine': 12.290427812928963, 'Diagnostic Radiology': 10.968171287597782, 'Student in an Organized Health Care Education/Training Program': 10.379092191481105, 'Medical Oncology': 20.97038674824219, 'Hand Surgery': 5.671930549294405, 'Cardiology': 21.58546918569751, 'Specialist': 15.445371142458674, 'Naturopath': 24.81619761983606, 'Psychiatry & Neurology': 25.332983989276837, 'Surgery': 6.157019732363253, 'Hospitalist': 10.146490927745493, 'Osteopathic Manipulative Medicine': 20.37883593566066, 'Vascular Surgery': 7.000916423963993, 'Interventional Cardiology': 15.881512570836021, 'Hospice and Palliative Care': 21.99091978753411, 'Cardiac Surgery': 8.311624596053903, 'Undefined Physician type': 9.662230183163208, 'Infectious Disease': 23.17034582582429, 'Colorectal Surgery (Proctology)': 7.242258914673304, 'Psychiatry': 23.666525491239476, 'Maxillofacial Surgery': 3.4860938687768055, 'Family Medicine': 20.22957007229758, 'Allergy/ Immunology': 23.25200646636877, 'Hematology': 21.009741241727717, 'Denturist': 2.5657894736842106, 'Surgical Oncology': 6.539179712106823, 'Oral & Maxillofacial Surgery': 3.538250193940994, 'Pediatric Medicine': 20.31834533933754, 'Certified Clinical Nurse Specialist': 17.68721985821192, 'Certified Registered Nurse Anesthetist (CRNA)': 24.296533095584152, 'Interventional Pain Management': 26.81549989199578, 'Neurological Surgery': 10.815178985092528, 'Orthopaedic Surgery': 10.259358488649166, 'Preventive Medicine': 20.688530703485647, 'Plastic Surgery': 5.077013691505254, 'Registered Nurse': 19.66393535785651, 'General Acute Care Hospital': 10.236394907967878, 'Physical Therapist in Private Practice': 18.350152599618706, 'Thoracic Surgery': 8.560838162164755, 'Neuropsychiatry': 26.228800210345057, 'Endocrinology': 27.542767694834716, 'Optometry': 16.712419550200657, 'Interventional Radiology': 8.110121526611014, 'Clinical Cardiac Electrophysiology': 6.1933581293147375, 'Nuclear Medicine': 20.516263627698716, 'Certified Nurse Midwife': 18.565505352595334, 'Personal Emergency Response Attendant': 12.06739327336904, 'Gynecological Oncology': 10.20890813617509, 'Addiction Medicine': 22.86786552236881, 'Clinic or Group Practice': 14.121661383858614, 'Slide Preparation Facility': 5.612385321100917, 'Pathology': 20.045643426613957, 'Neuromusculoskeletal Medicine, Sports Medicine': 23.31261644431134, 'Critical Care (Intensivists)': 16.359435141425994, 'Sleep Medicine': 28.495556988091217, 'Peripheral Vascular Disease': 12.385096910559094, 'Rehabilitation Agency': 23.698501954926854, 'Physical Medicine & Rehabilitation': 26.65310578797421, 'Thoracic Surgery (Cardiothoracic Vascular Surgery)': 8.767452069172398, 'Pharmacist': 22.790411156170325, 'Clinic/Center': 20.609669592236052, 'Colon & Rectal Surgery': 5.750452758011468, 'Geriatric Psychiatry': 20.144525339927682, 'Ambulatory Surgical Center': 3.547055192614403, 'Exclusive Provider Organization': 11.257518796992482, 'Licensed Clinical Social Worker': 21.266666666666666, 'Counselor': 25.222414744776128, 'Contractor': 10.153846153846153, 'Radiology': 24.041287878787877, 'Clinical Pharmacology': 23.208588957055216, 'Chiropractic': 22.964715113215114, 'Legal Medicine': 21.062729284325783, 'Acupuncturist': 21.90147334147334, 'Medical Genetics, Ph.D. Medical Genetics': 17.439550545809098, 'Medical Genetics': 27.53846153846154, 'Assistant, Podiatric': 7.549074074074075, 'Military Health Care Provider': 13.834725660812616, 'Licensed Practical Nurse': 22.608497624028406, 'Psychologist, Clinical': 30.30131772988916, 'Unknown Supplier/Provider Specialty': 20.09824414715719, 'Emergency Medical Technician, Intermediate': 11.73076923076923, 'Respite Care': 6.588235294117647, 'Licensed Vocational Nurse': 27.5, 'Massage Therapist': 14.235294117647058, 'Hospital': 15.682541201488569, 'Community Health Worker': 14.265043290043291, 'Pediatrics': 28.677777777777777, 'Religious Nonmedical Nursing Personnel': 10.636363636363637, 'Independent Medical Examiner': 12.667954545454545, 'Phlebology': 14.498247425481617, 'Specialist/Technologist Cardiovascular': 27.833333333333332, 'Chronic Disease Hospital': 10.154291224686595, 'Rehabilitation Practitioner': 20.705787126617384, 'Other Nursing Facility': 9.820035460992909, 'Durable Medical Equipment & Medical Supplies': 4.6089743589743595, 'Driver': 16.794642857142858, 'Social Worker': 26.620689655172413, 'Case Manager/Care Coordinator': 25.4372131831456, 'Dental Assistant': 3.8545454545454545, 'Speech Language Pathologist': 29.0, 'Homeopath': 29.708333333333332, 'Health Maintenance Organization': 22.683937823834196, 'Dental Hygienist': 3.5405405405405403}\n"
          ],
          "name": "stdout"
        }
      ]
    },
    {
      "cell_type": "code",
      "metadata": {
        "id": "D882kPRFKIPt",
        "colab_type": "code",
        "colab": {}
      },
      "source": [
        "specialty_avg_in_states = {}\n",
        "for item in avg_len_op_pres:\n",
        "    specialty = item[3]\n",
        "    state = item[2]\n",
        "\n",
        "    if state in specialty_avg_in_states:\n",
        "        if specialty in specialty_avg_in_states[state]:\n",
        "           specialty_avg_in_states[state][specialty].append(item[1])\n",
        "        else:\n",
        "           specialty_avg_in_states[state][specialty] = [(item[1])]\n",
        "\n",
        "    else:\n",
        "        specialty_avg_in_states[state] = {}\n",
        "\n",
        "        if specialty in specialty_avg_in_states[state]:\n",
        "           specialty_avg_in_states[state][specialty].append(item[1])\n",
        "        else:\n",
        "           specialty_avg_in_states[state][specialty] = [(item[1])]\n"
      ],
      "execution_count": 0,
      "outputs": []
    },
    {
      "cell_type": "code",
      "metadata": {
        "id": "3w3qZgBwNLQw",
        "colab_type": "code",
        "colab": {
          "base_uri": "https://localhost:8080/",
          "height": 88
        },
        "outputId": "a727c4f5-af09-43e6-b5b4-3150108531fb"
      },
      "source": [
        "state_specialty_avg_dict = {}\n",
        "state_specialty_ratio_list = []\n",
        "for state in specialty_avg_in_states:\n",
        "    for specialty in specialty_avg_in_states[state]:\n",
        "        if len(specialty_avg_in_states[state][specialty]) >=100:\n",
        "            mean_vals = np.mean(specialty_avg_in_states[state][specialty])\n",
        "            state_specialty_avg_dict[state]= {specialty: mean_vals}\n",
        "            state_specialty_ratio_list.append(mean_vals/specialty_averages[specialty])\n",
        "\n",
        "print(state_specialty_avg_dict)\n",
        "print(state_specialty_ratio_list)\n",
        "\n",
        "largest_ratio = np.max(state_specialty_ratio_list)\n",
        "print(largest_ratio)"
      ],
      "execution_count": 40,
      "outputs": [
        {
          "output_type": "stream",
          "text": [
            "{'MD': {'Oral Surgery (Dentist only)': 3.0260317073423217}, 'OH': {'Hospitalist': 8.728581069386074}, 'NV': {'Physician Assistant': 16.18261828825805}, 'PA': {'Hospitalist': 11.024935201291038}, 'FL': {'Radiation Oncology': 16.116873738595867}, 'OK': {'General Surgery': 7.266135393699518}, 'KY': {'Hematology-Oncology': 22.4343237222331}, 'CO': {'Oral Surgery (Dentist only)': 3.3182446584327443}, 'CA': {'Psychiatry': 23.56665593294059}, 'TX': {'Colorectal Surgery (Proctology)': 8.372783036255827}, 'CT': {'Dentist': 3.131544881642432}, 'MI': {'Neurosurgery': 15.916774012350864}, 'NJ': {'Cardiology': 24.609106619526663}, 'MA': {'Otolaryngology': 5.52893186210123}, 'MS': {'Physician Assistant': 12.148946425554428}, 'NY': {'Infectious Disease': 23.959800717100524}, 'SC': {'Hematology-Oncology': 21.6246584427053}, 'MN': {'Hematology-Oncology': 18.243327716283506}, 'WA': {'Student in an Organized Health Care Education/Training Program': 11.035747002130343}, 'DC': {'Nurse Practitioner': 16.515874216553357}, 'NC': {'Physical Medicine and Rehabilitation': 22.719325996433906}, 'IA': {'Podiatry': 8.0462848550942}, 'AZ': {'Neurology': 27.959677464516307}, 'LA': {'Cardiology': 17.54435859646395}, 'VA': {'Neurology': 25.91755871683341}, 'AR': {'Student in an Organized Health Care Education/Training Program': 10.708757070798299}, 'HI': {'Nurse Practitioner': 18.67422025281581}, 'OR': {'Hematology-Oncology': 20.021372635843285}, 'KS': {'Orthopedic Surgery': 9.180100586777504}, 'RI': {'Family Practice': 21.768617488678466}, 'WI': {'Neurology': 25.764608372316125}, 'ID': {'Internal Medicine': 20.853485165096505}, 'IN': {'Neurology': 27.25462529768897}, 'NM': {'Nurse Practitioner': 20.986905345846647}, 'TN': {'Otolaryngology': 6.090657382911936}, 'PR': {'General Surgery': 6.50973150090174}, 'GA': {'Plastic and Reconstructive Surgery': 5.658874469855471}, 'WV': {'General Surgery': 7.40984594939708}, 'VT': {'Physician Assistant': 14.174326458077}, 'AL': {'Urology': 5.729523584025791}, 'ME': {'Orthopedic Surgery': 6.81210682353589}, 'ND': {'Nurse Practitioner': 17.594475014713677}, 'MO': {'Otolaryngology': 6.522957278977545}, 'IL': {'Plastic and Reconstructive Surgery': 5.217007884098281}, 'UT': {'Orthopedic Surgery': 9.527865407326088}, 'NH': {'Orthopedic Surgery': 8.574209525801157}, 'NE': {'General Surgery': 5.559991428161298}, 'DE': {'Physician Assistant': 10.254002920140213}, 'MT': {'Emergency Medicine': 4.618728038750998}, 'WY': {'Nurse Practitioner': 19.31811446733343}, 'SD': {'Nurse Practitioner': 15.160912733347693}, 'AK': {'Nurse Practitioner': 22.373753691138237}}\n",
            "[1.0568657911013892, 0.8491973321964281, 1.1148522588233403, 0.9811392006871164, 0.9819897028818715, 0.9399423654324908, 0.9680576891120859, 1.2222439722121177, 1.115717005616794, 1.078008701740429, 0.9725443180796919, 0.948077722885521, 0.9960030790896158, 1.0118764839452778, 0.8704882197276381, 1.0158324582199203, 0.8880053420314501, 0.7477674765663044, 0.8654149068992278, 1.037559737436799, 0.8692592316107143, 0.9736994217386233, 0.9997602775268457, 0.9095303994651245, 0.9726037534604499, 0.9237927936174555, 1.0058934802998782, 1.038703080568732, 0.9935202847676768, 0.9111713908789293, 0.9082370716014964, 1.0003367600005184, 0.9139810417378595, 1.0145412595967145, 0.9519957072128927, 1.0176271479564956, 0.8814445115074552, 0.8602561350070145, 1.0622813596613974, 1.0092265468701112, 1.122383570147444, 1.0752132508101113, 0.9210168545474504, 1.0100579421854423, 1.2364118614922428, 1.0365136957136905, 1.0093589644718173, 0.9585421163672486, 0.9685690187528665, 1.006004146390502, 1.0476301157522543, 1.0237114777216358, 1.0270310068563937, 1.0197008171395838, 0.9511061802686577, 0.9676808141172039, 0.9849197271516384, 1.01367351451112, 0.7732013367945411, 0.9242107876900518, 1.0297486233779396, 0.9347168599211626, 0.9772277996715042, 1.1328526321197412, 1.076553509008617, 1.0866354020511941, 0.9519678028076721, 1.0270926427887055, 0.9875214132159474, 1.0355153950006335, 0.9964563996033118, 1.0897874646764922, 1.0865761650802295, 0.9884608327781996, 1.0496925396244954, 1.0469294011741301, 1.0258030197735888, 1.0655061574015783, 0.9972668157509191, 1.0701345106527667, 1.0344880578744962, 1.0068054248454925, 0.9146599069535634, 1.0742802051922584, 0.8427180065755615, 0.841023494594243, 1.0678659246412876, 1.0460507390405396, 1.1248227612201807, 1.083500866110034, 1.0283532199017362, 1.0172288637237568, 0.9775385905708392, 1.0576976473743953, 1.0599568391614416, 1.0164867577357686, 1.0614710267744052, 0.9775869067225093, 0.9876121787958322, 1.0035028941148092, 1.0102057173175272, 1.1394121136375983, 1.07095869507166, 0.9655265533950947, 0.9512636763825838, 0.9193780838610109, 1.0182223255229905, 1.0230734109021677, 1.0436357553085438, 1.0772708764808796, 1.1118557483236233, 1.0088736843552462, 0.9711205633342511, 1.2429982956585328, 1.0444333584366499, 1.0971971852579137, 1.0346313441411252, 0.9819833409194935, 1.1909397852660515, 1.0348900497573656, 1.0823844031832726, 0.9814901746329635, 0.8689379315295468, 1.0535814734331947, 0.9917287762071386, 1.107002856664175, 1.1634956006579125, 1.0909520495988658, 1.0595324791394247, 1.0226187953775243, 0.8625514675918146, 1.0005516542483996, 0.9207834835137203, 0.950600724641841, 1.019317446013217, 1.0741205708099242, 0.800954012571814, 1.08164465617145, 0.882902106539758, 0.8431136042706682, 0.8479077860646209, 0.9545481226555772, 0.9761475490530265, 0.9948137215448983, 1.0144691154135252, 1.236836036892044, 0.9988803898667902, 0.9798643166088838, 1.1087101307429825, 1.1290132581863164, 1.0359136312712007, 0.9922849152102089, 1.1227263690681188, 0.975984295824584, 1.108758138572461, 1.0847017408612751, 0.8600907911046333, 0.9666269701368287, 1.0533050731329596, 1.0747436683395322, 1.071598144566312, 1.1193831615557919, 1.0861403784462047, 1.0428165858318403, 1.0483411023449123, 1.037711403223535, 1.1295581324484214, 1.141906351919809, 0.9538039674691997, 1.3923895974857383, 0.951388614885188, 1.0855248761150351, 1.1068408780074204, 0.9504435276165324, 1.0184267394228685, 1.1409917465644326, 1.0142274200477057, 0.9973118242218406, 0.9905055876580239, 1.1167114482739953, 0.9957801343363286, 1.0938750702588955, 1.1465310622927014, 0.9981128133174566, 1.173281812268104, 1.010267177700748, 1.011084443166596, 1.018396686556734, 0.9528923548105394, 1.11928731450029, 1.1588319467188861, 1.0732644673860057, 0.9640359622087022, 1.047652894186861, 1.0719464558586003, 1.024600513231315, 1.038602246988848, 1.0418783690340283, 0.988815918102952, 0.9115596634124586, 1.1968423501138237, 1.1389680579225516, 1.0189110432257615, 1.0199248954016764, 0.9831299744566515, 1.0268346538718143, 0.9458709292088778, 1.0115910434906512, 0.9960967318045119, 1.0164622871596778, 1.1044818983094897, 1.0475118065152276, 1.065553197515637, 1.0125446351577587, 0.9492724904585226, 1.1561010362791648, 0.7570389291295593, 0.9990883506592138, 0.8780481112883168, 0.9751202955975743, 0.8731265560714725, 0.9132858811101893, 1.054387773149322, 0.9697373303242222, 0.9108352664374412, 1.1023305230051779, 1.0938948884666395, 1.1072329932926943, 1.1033602494469548, 1.1179347922573963, 1.1441277688947216, 1.206290536784469, 1.026073230724277, 1.0240857901158624, 1.011785723520458, 1.1034020457212481, 0.9654687957422876, 1.0627746348732565, 1.1071992529910877, 1.1253923512821176, 1.0892338932952, 1.1643420099174175, 1.0398350498606914, 1.1193987505575365, 1.0333231026968643, 1.0734921723492408, 1.0587621231710627, 0.905200260636438, 1.141070446883444, 0.9129882804718272, 0.9378432873823884, 0.9975023548313382, 0.8053136161411065, 1.01013476194326, 1.1245539791978545, 0.9243964792865176, 0.8894061691454872, 0.9611289314473799, 0.9531483099025395, 1.0242068557490827, 1.0027468051273913, 1.0244397019294536, 0.9678786184050285, 0.9722643610288025, 1.056060011090785, 0.8879620257259035, 1.1400774478338702, 0.918596617681727, 1.0885201714134347, 0.800804514506247, 1.0074840829871685, 1.029820236898412, 0.8448774737914129, 0.8711838879186047, 0.8494176056647015, 0.8492366716848286, 0.9905114692694662, 0.7750690686989234, 0.7609034139023255, 0.9716551896592501, 0.7845745448793476, 0.9494790471595858, 0.8641896110583179, 1.0034101757722267, 0.9009110800371729, 0.9208129594254264, 0.916909891975952, 1.0215472466589528, 0.9422705932432712, 1.3501873388647503, 0.9405995138907887, 0.9952833077915363, 0.9282244194123053, 0.9699263033512807, 1.0369847398700993, 1.0466043287440716, 1.0547763761537534, 0.9635635786582781, 1.016353067711976, 1.0346337924799642, 1.0670907824494538, 0.938207898254109, 1.103672942002271, 1.0855133552738903, 1.0214973538086451, 0.9978079819932423, 1.0648986913792762, 1.103073763567465, 1.010882329814646, 1.1441927009154367, 1.0735696980183518, 0.8229466788729096, 1.0908412425590237, 1.0183630821002232, 1.1234485966619114, 0.9376187411898945, 1.0637514075996548, 0.9367296972018181, 1.0012603287967223, 1.050555638312592, 1.1024423487014927, 1.006266346037896, 1.0340717785228892, 0.9563507747410736, 1.0960678115063205, 1.0007882811948456, 1.0423637130393313, 1.0323022343431507, 1.0136114975628094, 1.120993140382808, 1.0266468526539434, 1.0955405090447607, 1.065500203499648, 1.0212934543525518, 0.8562767204948882, 0.8699798180325261, 0.9042863086982438, 0.8108120948329308, 0.739955769149588, 0.7691780303692152, 0.6982302128373857, 0.8990235835879336, 0.8682747706129617, 0.7271331883943629, 0.7333322853603622, 0.8615993279900307, 1.0363460412265226, 1.015587841818079, 0.839170712915004, 0.8489262114636644, 1.003353017870741, 1.1295375602293536, 0.9582210781578839, 0.9566805148570715, 0.8766092838825156, 0.8233827121405768, 0.9105190074286298, 0.9043704832606371, 0.9300436522697052, 0.8806210357948436, 1.0632670756300058, 0.9656896849462604, 0.9999539977925399, 0.9070133689904676, 1.0490550741461224, 0.946979421424813, 1.0977220596961985, 1.0399273295304852, 1.0687020918524355, 0.9826244272968004, 0.9823831416155696, 1.0543554602524603, 1.0316183628181983, 1.0030208865945605, 1.0015162155502606, 1.1332504922695184, 1.0215256328267173, 0.9241721219243153, 1.0724570180747741, 1.0089419280126832, 0.9396261515758894, 1.0257543044197144, 1.0738801214395124, 1.0887240290025806, 1.0200711511340004, 0.9906466331250073, 0.9164388914107535, 1.1493953015547294, 1.1265728687548513, 0.8657437777810587, 0.969474082946238, 0.9245973833491727, 0.8607941621275318, 0.9171837791362191, 1.0438176469524565, 0.9604329464536431, 0.9539052956387429, 1.123245137445152, 1.0324402407918711, 0.900022334126003, 0.9056187181463402, 0.9876509762124948, 1.013614712863302, 1.0168804562124458, 1.036991099355759, 0.9449622838013798, 1.082482037387701, 0.92191003087213, 1.1951410841817907, 0.9675604422819661, 1.1057566686405726, 0.9307962847132798, 1.1562135142601833, 1.043485660808532, 0.9547343237900178, 0.8059122259285203, 1.1605357376704668, 0.6577113155347767, 1.0732309753233393, 1.2752975325383689, 0.812785603385856, 0.971871558675913, 0.960851536443074, 0.9700187190857161, 0.9571702427755105, 0.9832575534697747, 0.9122320981859277, 0.8893295162249797, 0.8591585386493042, 0.9056194244884949, 1.1309153007885957, 1.0703192167471525, 0.9557545193031297, 1.0850074294368692, 0.9370795495370666, 0.9365708212503296, 1.0034197211151035, 0.9454796916460604, 1.0071398566391114, 1.338707885681224, 0.9570659002468028, 1.00048660594238, 1.0076361584735614, 0.9524598759711665, 1.0159383983996535, 1.031762400143991, 0.974992390793093, 0.8650248648979829, 0.8816312413795283, 0.9070950470282745, 1.0255447094529384, 0.9722407756118249, 0.8627725247776343, 0.880752945730091, 1.0761404703628517, 1.0633120862926215, 0.8327155429255988, 0.8647843175039487, 0.8917201062643865, 0.998429707335391, 1.1759817616622856, 0.7499863291656289, 0.8575551145216576, 0.9455731693666457, 1.010089189460598, 1.0294314673232188, 0.960928841774976, 0.9855099021153988, 0.9425948114072902, 1.0638489857309894, 1.0286839972037625, 1.0487014286368792, 0.8681525938215913, 1.027811130804605, 0.7498735374083714, 0.9199033718337254, 0.8179306765187041, 0.989808574861633, 0.8402999789106749, 0.9161363606593677, 0.9330226370800232, 0.9169858448148978, 0.853483372257099, 0.8614116210564958, 0.9376322703057135, 0.8202282585246393, 1.058471368865033, 0.9117752034922442, 0.8237547691271447, 0.836034233776618, 0.997498122027906, 1.0281929055889383, 0.8458303362307195, 1.092871331854552, 1.147631609670083, 0.943793039003734, 0.9162488085189534, 1.0367287786362245, 1.0203460725495346, 0.9288952669848225, 0.9527914075342884, 1.0208455236440843, 1.3340935899912187, 0.9339947530321494, 1.0101924315762059, 0.7271499727735061, 0.9830560728114751, 1.0094892850462651, 1.0214367666223099, 0.9865852198460641, 0.9894829097860843, 1.039780384895085, 1.055185359628079, 1.2665277396872836, 1.0799966067591666, 0.9131683449973971, 1.0108274032777669, 0.9049081100383085, 1.1525519916676175, 0.9590513447483406, 0.967373511772451, 0.9179119286555427, 0.9593335320568154, 1.0667676020581949, 0.9880218023607341, 1.1005780641584135, 0.8685052903625531, 0.9700842922072652, 1.046864217190567, 0.8940821069372995, 0.8411646399115064, 0.9066891778454909, 0.967026935091798, 1.0870032733835981, 0.9924413716486326, 0.9118328632983351, 0.7825935107827132, 0.912757199158345, 1.0477038619924302, 1.066963085018475, 1.0457027910416323, 1.0248505048062169, 0.9953272096816057, 0.962400724992826, 1.093523873232586, 1.1360520884266505, 0.9744211466156051, 0.9439950481668629, 1.0154746549014755, 0.8395173131009965, 1.018241300942473, 0.9974562626551636, 0.9794175999444483, 1.0377123751339823, 1.0610730635399757, 1.004971117891217, 0.9669314894253547, 1.149915145199771, 1.0845480273454065, 0.9602809027144424, 1.0428708520500958, 1.0426653444908491, 0.8471621244734995, 1.047800183113428, 1.0512893399221788, 0.8418849132399994, 1.3532018552185467, 0.99372679282469, 1.1345159457128438, 1.0381565064701086, 1.4296113621149138, 1.0874069307989072, 1.2144943447491192, 1.1147370695447025, 1.0022213791503378, 1.0271427103623691, 1.0829709413677466, 1.0166061766487562, 0.9526891207022525, 1.0143236868674645, 1.1070260131361596, 1.005751336080685, 0.9722493306779797, 1.0648218911538563, 0.9753333724077395, 1.4851731533528136, 0.935822798334116, 1.097657135827966, 1.053765132834015, 1.0730488030630165, 0.8573703253598203, 1.0174489186493614, 0.8789329378569813, 0.9986998321553235, 0.644213878959078, 0.8796432258374761, 0.7154363847414688, 1.1547645219363032, 0.9662476142328219, 0.9695881223743632, 1.0273492984694976, 0.9609759622184554, 0.9939799048049857, 0.9983779881889969, 0.6931234668047195, 1.0293307271023207, 1.0033965655962755, 0.8654807005932476, 1.1527530886799777, 1.074790502342307, 1.061964376624597, 1.036814402441981, 0.9051444444105357, 0.9254819037787171, 0.9560874490505362, 1.0628824217426036, 1.009046912260531, 0.9728993590536478, 1.0353984015182343, 0.9629300885008579, 0.9302685958065656, 0.9384124063167116, 0.9749242030667361, 0.9415359229335436, 0.9343145098073173, 0.9080635354826769, 0.8722118784100031, 1.0473525357695, 0.9081324295840483, 0.9835235576350777, 1.013424690964201, 1.0555804263022468, 1.160195970722671, 0.9944249502998067, 1.0060518618072434, 1.0964563270943348, 0.8784197695580591, 0.9756515396089601, 1.06914831626358, 0.9659839329148417, 0.873767605809522, 0.9913499123461921, 0.8261883468656386, 1.0455666648723272, 1.164517549824179, 1.0961980011750132, 0.9010403523102086, 0.9945912915047527, 0.854192456373119, 0.9045086622939049, 1.0622175343213154, 0.9824042444970539, 0.8108541044218607, 1.0217427091565316, 0.9510777404598908, 1.0613213949732405, 0.9154867287379985, 0.9255621995458498, 1.0334817487072359, 0.8536396860949806, 0.9112980475531903, 1.0269008480548567, 1.0394606160215685, 1.0313563268467028, 0.7834437303286461, 0.9907822105566069, 1.040026654770045, 1.0765979189518564, 0.9740039570394885, 1.023489425382115, 1.0219016232318874, 0.954187957027688, 1.3493864457691855, 1.060905880961362, 1.0488199653301773, 0.7854593791874073, 0.9046783896438393, 0.8326020381931591, 1.0351710595360981, 1.22346536750452, 1.228714474709601]\n",
            "1.4851731533528136\n"
          ],
          "name": "stdout"
        }
      ]
    },
    {
      "cell_type": "markdown",
      "metadata": {
        "id": "VdxGbbomP3aN",
        "colab_type": "text"
      },
      "source": [
        "For each provider, estimate the length of the average prescription from the total_day_supply and total_claim_count. What is the median, in days, of the distribution of this value across all providers? "
      ]
    },
    {
      "cell_type": "code",
      "metadata": {
        "id": "Li-Eex2SQEKv",
        "colab_type": "code",
        "outputId": "cd184581-8443-4008-d282-0c57ab7307a8",
        "colab": {
          "base_uri": "https://localhost:8080/",
          "height": 34
        }
      },
      "source": [
        "prescription_length = []\n",
        "for row in data_list:\n",
        "    prescription_length.append(row[20]/row[17])\n",
        "\n",
        "prescription_median = np.median(prescription_length)\n",
        "print(prescription_median)\n"
      ],
      "execution_count": 44,
      "outputs": [
        {
          "output_type": "stream",
          "text": [
            "29.7125748502994\n"
          ],
          "name": "stdout"
        }
      ]
    },
    {
      "cell_type": "markdown",
      "metadata": {
        "id": "NnbgYAVeTCFr",
        "colab_type": "text"
      },
      "source": [
        "Find the ratio of beneficiaries with opioid prescriptions to beneficiaries with antibiotics prescriptions in each state. Assume that each beneficiary attends only a single provider. What is the difference between the largest and smallest ratios? "
      ]
    },
    {
      "cell_type": "code",
      "metadata": {
        "id": "1tK5e-G0TIJ5",
        "colab_type": "code",
        "outputId": "13bb9616-fe51-419b-d5fb-8afd5f8dbc31",
        "colab": {
          "base_uri": "https://localhost:8080/",
          "height": 71
        }
      },
      "source": [
        "state_collate = {}\n",
        "\n",
        "for row in data_list:\n",
        "    state = row[12]\n",
        "    if state in state_collate:\n",
        "        #state_collate[state]=[]\n",
        "        if math.isnan(row[53]) == False:\n",
        "            state_collate[state][0] += row[53]\n",
        "        if math.isnan(row[62]) == False : \n",
        "            state_collate[state][1] += row[62]\n",
        "    else:\n",
        "        state_collate[state]=[]\n",
        "        if math.isnan(row[53]) == False:\n",
        "            state_collate[state].append(row[53])\n",
        "        else:\n",
        "            state_collate[state].append(0)\n",
        "        if math.isnan(row[62]) == False : \n",
        "            state_collate[state].append(row[62])\n",
        "        else:\n",
        "            state_collate[state].append(0)\n",
        "print(state_collate)\n",
        "        \n",
        "ratios = []\n",
        "for state in state_collate:\n",
        "    ratios.append(state_collate[state][0]/state_collate[state][1])\n",
        "\n",
        "ratio_range = np.max(ratios) - np.min(ratios)\n",
        "\n",
        "print(ratio_range)\n",
        "\n",
        "#standard_deviation = np.std(fractions)\n",
        "#print(standard_deviation)"
      ],
      "execution_count": 45,
      "outputs": [
        {
          "output_type": "stream",
          "text": [
            "{'MD': [312337.0, 489411.0], 'OH': [911320.0, 1562911.0], 'NV': [215148.0, 272222.0], 'CA': [2136119.0, 3460286.0], 'TN': [811612.0, 1067550.0], 'PA': [955190.0, 1738456.0], 'CO': [349761.0, 451152.0], 'FL': [1687636.0, 3085960.0], 'OK': [316523.0, 456679.0], 'NM': [123425.0, 197482.0], 'OR': [332506.0, 390567.0], 'KY': [432304.0, 740815.0], 'SC': [456002.0, 661739.0], 'CT': [199490.0, 408467.0], 'TX': [1572921.0, 2621115.0], 'NY': [899751.0, 2221673.0], 'NJ': [409489.0, 964956.0], 'NC': [935233.0, 1312676.0], 'MI': [937021.0, 1302587.0], 'MA': [381050.0, 742899.0], 'MS': [307429.0, 458336.0], 'VA': [478628.0, 805170.0], 'WA': [447881.0, 545946.0], 'AR': [311914.0, 437036.0], 'NH': [71730.0, 146809.0], 'IA': [212224.0, 406069.0], 'MN': [334843.0, 574264.0], 'DC': [27826.0, 41623.0], 'GA': [812841.0, 1132395.0], 'HI': [52100.0, 114654.0], 'LA': [436154.0, 628369.0], 'ND': [45487.0, 83546.0], 'IN': [567523.0, 870177.0], 'NE': [127865.0, 218649.0], 'AZ': [531709.0, 787936.0], 'IL': [741564.0, 1274826.0], 'AL': [539041.0, 763225.0], 'PR': [149199.0, 497090.0], 'KS': [227688.0, 351413.0], 'RI': [60466.0, 126425.0], 'WI': [395929.0, 611604.0], 'ID': [122865.0, 159398.0], 'MO': [526314.0, 829595.0], 'WV': [155380.0, 315270.0], 'VT': [30361.0, 65636.0], 'UT': [154194.0, 216269.0], 'ME': [101180.0, 166101.0], 'AE': [982.0, 1986.0], 'MT': [72691.0, 101310.0], 'DE': [63485.0, 115729.0], 'WY': [29391.0, 47816.0], 'SD': [60912.0, 100879.0], 'AK': [20045.0, 25223.0], 'AP': [688.0, 1627.0], 'ZZ': [1926.0, 3378.0], 'GU': [683.0, 2191.0], 'VI': [1179.0, 3790.0], 'MP': [79.0, 362.0], 'AA': [145.0, 496.0], 'XX': [456.0, 574.0], 'AS': [35.0, 68.0]}\n",
            "0.6331097230267027\n"
          ],
          "name": "stdout"
        }
      ]
    },
    {
      "cell_type": "markdown",
      "metadata": {
        "id": "i1JM6lvCfH-f",
        "colab_type": "text"
      },
      "source": [
        "For each provider where the relevant columns are not suppressed, work out the fraction of claims for beneficiaries age 65 and older, as well as the fraction of claims for beneficiaries with a low-income subsidy. What is the Pearson correlation coefficient between these values? "
      ]
    },
    {
      "cell_type": "code",
      "metadata": {
        "id": "9BWC-yQnfOjb",
        "colab_type": "code",
        "outputId": "4bfdd970-08a0-4935-f41d-378abb54e7fd",
        "colab": {
          "base_uri": "https://localhost:8080/",
          "height": 34
        }
      },
      "source": [
        "bene_count_65 = extract(23, data_list)\n",
        "bene_count_LI = extract(45, data_list)\n",
        "\n",
        "counted_bene_count_65 = []\n",
        "counted_bene_count_LI = []\n",
        "\n",
        "for item in bene_count_65:\n",
        "    entry = float(item)\n",
        "    if math.isnan(entry) == False:\n",
        "        counted_bene_count_65.append(entry)\n",
        "sum_65 = sum(counted_bene_count_65)\n",
        "mean_65 = np.mean(counted_bene_count_65)\n",
        "\n",
        "for item in bene_count_LI:\n",
        "    entry = float(item)\n",
        "    if math.isnan(entry) == False:\n",
        "        counted_bene_count_LI.append(entry)\n",
        "sum_LI = sum(counted_bene_count_LI)\n",
        "mean_LI = np.mean(counted_bene_count_LI)\n",
        "\n",
        "new_bene_count_65 = []\n",
        "new_bene_count_LI = []\n",
        "\n",
        "for item in bene_count_65:\n",
        "    entry = float(item)\n",
        "    if math.isnan(entry) == False:\n",
        "        new_bene_count_65.append(entry)\n",
        "    else:\n",
        "        new_bene_count_65.append(mean_65)\n",
        "\n",
        "for item in bene_count_LI:\n",
        "    entry = float(item)\n",
        "    if math.isnan(entry) == False:\n",
        "        new_bene_count_LI.append(entry)\n",
        "    else:\n",
        "        new_bene_count_LI.append(mean_LI)\n",
        "    \n",
        "frac_65 = (1./sum(new_bene_count_65)) * np.array(new_bene_count_65)\n",
        "frac_LI = (1./sum(new_bene_count_LI)) * np.array((new_bene_count_LI))\n",
        "\n",
        "#print(len(frac_65), len(frac_LI))\n",
        "#print(frac_65[:20])\n",
        "#print(frac_LI[:20])\n",
        "\n",
        "pearson_corr = scipy.stats.pearsonr(frac_65, frac_LI) \n",
        "\n",
        "print(pearson_corr)\n"
      ],
      "execution_count": 46,
      "outputs": [
        {
          "output_type": "stream",
          "text": [
            "(0.7968910027092642, 0.0)\n"
          ],
          "name": "stdout"
        }
      ]
    },
    {
      "cell_type": "markdown",
      "metadata": {
        "id": "tHBxmfQ-VDKa",
        "colab_type": "text"
      },
      "source": [
        "For each provider for whom the information is not suppressed, figure out the average cost per day of prescriptions in both 2016 and 2017. Use this to estimate the inflation rate for daily prescription costs per provider. What is the average inflation rate across all providers? "
      ]
    },
    {
      "cell_type": "code",
      "metadata": {
        "id": "EnwcsvKjVIMB",
        "colab_type": "code",
        "colab": {}
      },
      "source": [
        "df_16 = pd.read_csv(\"/content/drive/My Drive/Colab Notebooks/PartD_Prescriber_PUF_NPI_16.txt\", sep='\\t')\n",
        "data_list_16 = df_16.values.tolist()"
      ],
      "execution_count": 0,
      "outputs": []
    },
    {
      "cell_type": "code",
      "metadata": {
        "id": "6jBCzHwzeQ5p",
        "colab_type": "code",
        "colab": {
          "base_uri": "https://localhost:8080/",
          "height": 34
        },
        "outputId": "df08cf47-6e99-4dcf-c075-621425339ec8"
      },
      "source": [
        "cost_per_day_17 = []\n",
        "for row in data_list:\n",
        "    total_day = row[20]\n",
        "    total_cost = row[19]\n",
        "    cost_per_day_17.append(total_cost/total_day)\n",
        "mean_cost_per_day_17 = np.mean(cost_per_day_17)\n",
        "print(mean_cost_per_day_17)"
      ],
      "execution_count": 65,
      "outputs": [
        {
          "output_type": "stream",
          "text": [
            "4.200463873282938\n"
          ],
          "name": "stdout"
        }
      ]
    },
    {
      "cell_type": "code",
      "metadata": {
        "id": "_zXV8SBqgN8F",
        "colab_type": "code",
        "colab": {
          "base_uri": "https://localhost:8080/",
          "height": 34
        },
        "outputId": "d21e9d7e-9eff-4523-c401-d958fee21a20"
      },
      "source": [
        "cost_per_day_16 = []\n",
        "for row in data_list_16:\n",
        "    total_day = row[20]\n",
        "    total_cost = row[19]\n",
        "    cost_per_day_16.append(total_cost/total_day)\n",
        "mean_cost_per_day_16 = np.mean(cost_per_day_16)\n",
        "print(mean_cost_per_day_16)"
      ],
      "execution_count": 66,
      "outputs": [
        {
          "output_type": "stream",
          "text": [
            "4.160214951442098\n"
          ],
          "name": "stdout"
        }
      ]
    },
    {
      "cell_type": "code",
      "metadata": {
        "id": "hi3IpO1-gq_w",
        "colab_type": "code",
        "colab": {
          "base_uri": "https://localhost:8080/",
          "height": 34
        },
        "outputId": "f5284d6e-12ea-4013-9f35-24cb0c8fbd37"
      },
      "source": [
        "inflation_rate = 100*(mean_cost_per_day_17 - mean_cost_per_day_16)/mean_cost_per_day_16\n",
        "\n",
        "print(\"Average inflation rate across all providers is: %.2f\" %(inflation_rate))"
      ],
      "execution_count": 74,
      "outputs": [
        {
          "output_type": "stream",
          "text": [
            "Average inflation rate across all providers is: 0.97\n"
          ],
          "name": "stdout"
        }
      ]
    },
    {
      "cell_type": "markdown",
      "metadata": {
        "id": "_M9s_FkolQqV",
        "colab_type": "text"
      },
      "source": [
        "Consider all providers with a defined specialty in both years. Find the fraction of providers who left each specialty between 2016 and 2017. What is the largest such fraction, when considering specialties with at least 1000 proviers in 2016? Note that some specialties have a fraction of 1 due to specialty name changes between 2016 and 2017; disregard these specialties in calculating your answer. "
      ]
    },
    {
      "cell_type": "code",
      "metadata": {
        "id": "yyKVLzmTlfog",
        "colab_type": "code",
        "colab": {
          "base_uri": "https://localhost:8080/",
          "height": 54
        },
        "outputId": "637d881c-20a2-4f85-9935-5d98ea377c74"
      },
      "source": [
        "specialty_numbers_16 = {}\n",
        "\n",
        "for row in data_list_16:\n",
        "    specialty = row[14]\n",
        "    if specialty in specialty_numbers_16:\n",
        "        specialty_numbers_16[specialty] += 1\n",
        "    else:\n",
        "        specialty_numbers_16[specialty] = 1\n",
        "\n",
        "print(specialty_numbers_16)"
      ],
      "execution_count": 80,
      "outputs": [
        {
          "output_type": "stream",
          "text": [
            "{'Internal Medicine': 133174, 'Anesthesiology': 7180, 'Dentist': 129650, 'Nurse Practitioner': 137822, 'Family Practice': 109334, 'Obstetrics & Gynecology': 29713, 'General Surgery': 22944, 'Urology': 10710, 'Cardiac Surgery': 1182, 'Physician Assistant': 86733, 'Dermatology': 13031, 'Physical Medicine and Rehabilitation': 8330, 'Radiation Oncology': 4563, 'Infectious Disease': 5253, 'Orthopedic Surgery': 21302, 'Endocrinology': 5766, 'Psychiatry': 25528, 'Rheumatology': 4659, 'General Practice': 10171, 'Neurology': 13656, 'Emergency Medicine': 47229, 'Nephrology': 8485, 'Preventive Medicine': 1103, 'Hand Surgery': 1378, 'Psychiatry & Neurology': 13959, 'Ophthalmology': 19763, 'Cardiovascular Disease (Cardiology)': 20370, 'Pulmonary Disease': 9277, 'Otolaryngology': 10440, 'Plastic and Reconstructive Surgery': 4487, 'Pharmacist': 6133, 'Interventional Cardiology': 2753, 'Gastroenterology': 13350, 'Diagnostic Radiology': 4421, 'Geriatric Medicine': 1928, 'Pediatric Medicine': 11744, 'Neurosurgery': 4126, 'Thoracic Surgery': 1792, 'Neuropsychiatry': 2323, 'Pain Management': 2151, 'Oral Surgery (Dentists only)': 5698, 'Podiatry': 15285, 'Optometry': 28570, 'Hematology-Oncology': 8324, 'Student in an Organized Health Care Education/Training Program': 51615, 'Certified Nurse Midwife': 2385, 'Exclusive Provider Organization': 6, 'Specialist': 3763, 'Critical Care (Intensivists)': 1528, 'Medical Oncology': 3026, 'Allergy/ Immunology': 3600, 'Obstetrics/Gynecology': 5985, 'Sports Medicine': 969, 'Nuclear Medicine': 196, 'Certified Clinical Nurse Specialist': 2710, 'Psychologist, Clinical': 145, 'Orthopaedic Surgery': 2680, 'Naturopath': 875, 'Psychologist (billing independently)': 228, 'Osteopathic Manipulative Medicine': 680, 'Hospice and Palliative Care': 773, 'Vascular Surgery': 2966, 'Clinical Cardiatric Electrophysiology': 1884, 'Behavioral Analyst': 19, 'Colon & Rectal Surgery': 81, 'Pathology': 1066, 'Colorectal Surgery (Proctology)': 1444, 'Hematology': 679, 'Addiction Medicine': 217, 'Psychoanalyst': 48, 'Interventional Radiology': 709, 'Maxillofacial Surgery': 1147, 'Cardiac Electrophysiology': 81, 'Registered Nurse': 972, 'Geriatric Psychiatry': 205, 'Allergy/Immunology': 416, 'Psychologist': 114, 'Denturist': 5, 'Surgical Oncology': 798, 'Chiropractic': 200, 'Oral & Maxillofacial Surgery': 414, 'Counselor': 404, 'Certified Registered Nurse Anesthetist (CRNA)': 318, 'Licensed Practical Nurse': 110, 'General Acute Care Hospital': 500, 'Neurological Surgery': 576, 'Physical Medicine & Rehabilitation': 25, 'Licensed Clinical Social Worker': 146, 'Physical Therapist': 78, 'Legal Medicine': 202, 'Midwife': 191, 'Radiology': 135, 'Hospitalist': 961, 'Marriage & Family Therapist': 45, 'Plastic Surgery': 1018, 'Interventional Pain Management': 1709, 'Sleep Medicine': 315, 'Gynecological Oncology': 971, 'Peripheral Vascular Disease': 58, 'Thoracic Surgery (Cardiothoracic Vascular Surgery)': 298, 'Family Medicine': 680, 'Undefined Physician type': 261, 'Prosthetist': 2, 'Clinic/Center': 209, 'Pharmacy Technician': 12, 'Personal Emergency Response Attendant': 109, 'SNF (Dmercs Only)': 3, 'Medical Genetics, Ph.D. Medical Genetics': 44, 'Physical Therapist in Private Practice': 53, 'Technician/Technologist': 4, 'Community Health Worker': 26, 'Surgery': 365, 'Clinic or Group Practice': 49, 'Genetic Counselor, MS': 4, 'Case Management': 5, \"Nurse's Aide\": 3, 'Neuromusculoskeletal Medicine, Sports Medicine': 59, 'CRNA': 50, 'Contractor': 33, 'Substance Abuse Rehabilitation Facility': 8, 'Case Manager/Care Coordinator': 48, 'Rehabilitation Agency': 22, 'Medical Genetics': 30, 'Emergency Medical Technician, Basic': 13, 'Pediatrics': 14, 'Independent Medical Examiner': 37, 'Hospital (Dmercs Only)': 86, 'Speech Language Pathologist': 66, 'Acupuncturist': 86, 'Occupational Therapy Assistant': 11, 'Military Health Care Provider': 33, 'Preferred Provider Organization': 10, 'Occupational Therapist in Private Practice': 6, 'Physical Therapy Assistant': 23, 'Health Educator': 12, 'Social Worker': 41, 'Anesthesiology Assistant': 8, 'Ambulatory Surgical Center': 21, 'Multispecialty Clinic/Group Practice': 69, 'Clinical Pharmacology': 13, 'Orthotic Fitter': 2, 'Technician, Cardiology': 1, 'Home Health': 3, 'Spec/Tech, Health Info': 1, 'Homeopath': 8, 'Electrodiagnostic Medicine': 2, 'Unknown Supplier/Provider Specialty': 10, 'Rehabilitation Practitioner': 25, 'Registered Dietician/Nutrition Professional': 31, 'Chore Provider': 4, 'Specialist/Technologist, Other': 16, 'Massage Therapist': 13, 'Radiology Practitioner Assistant': 2, 'Durable Medical Equipment & Medical Supplies': 5, 'Occupational therapist': 67, 'Community/Behavioral Health': 7, 'Dental Therapist': 1, 'Health Maintenance Organization': 10, 'Chronic Disease Hospital': 15, 'Specialist/Technologist': 12, 'Mass Immunizer Roster Biller': 5, 'Residential Treatment Facility, Physical Disabilities': 3, 'Clinical Neuropsychologist': 15, 'Dental Assistant': 4, 'Nutritionist': 6, 'Registered Dietitian or Nutrition Professional': 8, 'Clinical Medical Laboratory': 8, 'Assistant, Podiatric': 5, 'Veterinarian': 3, 'Audiologist': 6, 'Slide Preparation Facility': 5, 'Oral Medicinist': 2, 'Advanced Practice Dental Therapist': 2, 'Public Health Welfare Agency': 4, 'Dental Hygienist': 9, 'Technician': 4, 'Respiratory Therapist, Registered': 3, 'Day Training/Habilitation Specialist': 1, 'Emergency Medical Technician, Paramedic': 3, 'Naprapath': 4, 'Audiologist (billing independently)': 5, 'Point of Service': 4, 'Radiologic Technologist': 5, 'Dental Laboratory Technician': 1, 'Lactation Consultant, Non-RN': 2, 'Emergency Medical Technician, Intermediate': 2, 'Military Hospital': 5, 'Hearing Instrument Specialist': 4, 'Respite Care': 1, 'Spec/Tech, Pathology': 3, 'Licensed Vocational Nurse': 10, 'Phlebology': 8, 'Pharmacy': 7, 'Home Health Aide': 6, 'Doula': 1, 'Dietetic Technician, Registered': 1, 'Religious Nonmedical Nursing Personnel': 3, 'Anesthesiologist Assistants': 4, 'Psychiatric Residential Treatment Facility': 1, 'Alzheimer Center (Dementia Center)': 1, 'Optician': 4, 'Developmental Therapist': 4, 'Prosthetic/Orthotic Supplier': 1, 'Nursing Facility, Other (Dmercs Only)': 1, 'Private Vehicle': 1, 'Midwife, Lay': 1, 'Driver': 2, 'Voluntary Health or Charitable Agencies': 1, 'Sleep Specialist, PhD': 1, 'Lodging': 1, 'Respiratory Therapist, Certified': 2, 'Spec/Tech, Cardiovascular': 1, 'Residential Treatment Facility, Emotionally Disturbed Children': 2, 'In Home Supportive Care': 1, 'Homemaker': 2, 'Radiation Therapy': 1, 'Technician, Pathology': 2, 'Individual Certified Prosthetist-Orthotist': 1, 'Perfusionist': 1, 'Public Health or Welfare Agency': 1, 'Dietary Manager': 1, 'Clinical Laboratory': 1, 'Mechanotherapist': 1}\n"
          ],
          "name": "stdout"
        }
      ]
    },
    {
      "cell_type": "code",
      "metadata": {
        "id": "SuJ7vI-_jAhh",
        "colab_type": "code",
        "colab": {
          "base_uri": "https://localhost:8080/",
          "height": 54
        },
        "outputId": "6ea31a38-bd35-4d9a-e6ad-78a491c98064"
      },
      "source": [
        "specialty_numbers_17 = {}\n",
        "\n",
        "for row in data_list:\n",
        "    specialty = row[14]\n",
        "    if specialty in specialty_numbers_17:\n",
        "        specialty_numbers_17[specialty] += 1\n",
        "    else:\n",
        "        specialty_numbers_17[specialty] = 1\n",
        "\n",
        "print(specialty_numbers_17)"
      ],
      "execution_count": 79,
      "outputs": [
        {
          "output_type": "stream",
          "text": [
            "{'Internal Medicine': 130302, 'Anesthesiology': 7057, 'Dentist': 130646, 'Nurse Practitioner': 153964, 'Family Practice': 110290, 'Obstetrics & Gynecology': 35496, 'General Surgery': 22822, 'Urology': 10707, 'Cardiac Surgery': 1096, 'Pharmacist': 6669, 'Physician Assistant': 92495, 'Dermatology': 13297, 'Optometry': 29460, 'Physical Medicine and Rehabilitation': 8444, 'Radiation Oncology': 4604, 'Infectious Disease': 5383, 'Orthopedic Surgery': 21323, 'Endocrinology': 5931, 'Psychiatry': 25413, 'Rheumatology': 4713, 'General Practice': 9923, 'Emergency Medicine': 48475, 'Neurology': 13885, 'Nephrology': 8632, 'Preventive Medicine': 1105, 'Licensed Clinical Social Worker': 115, 'Orthopaedic Surgery': 2668, 'Ophthalmology': 19790, 'Pulmonary Disease': 9463, 'Otolaryngology': 10461, 'Plastic and Reconstructive Surgery': 4497, 'Cardiology': 20265, 'Psychiatry & Neurology': 14214, 'Interventional Cardiology': 3094, 'Gastroenterology': 13596, 'Diagnostic Radiology': 4245, 'Geriatric Medicine': 1921, 'Neurosurgery': 4110, 'Interventional Radiology': 780, 'Neuropsychiatry': 2319, 'Pain Management': 2270, 'Oral Surgery (Dentist only)': 5783, 'Podiatry': 15335, 'Pediatric Medicine': 10950, 'Hematology-Oncology': 8526, 'Student in an Organized Health Care Education/Training Program': 53815, 'Certified Nurse Midwife': 2457, 'Exclusive Provider Organization': 9, 'Specialist': 3456, 'Medical Oncology': 3158, 'Thoracic Surgery': 1790, 'Allergy/ Immunology': 4026, 'Sports Medicine': 1076, 'Nuclear Medicine': 180, 'Certified Clinical Nurse Specialist': 2652, 'Hand Surgery': 1419, 'Hospitalist': 5565, 'Hospice and Palliative Care': 878, 'Naturopath': 972, 'Marriage & Family Therapist': 30, 'Surgery': 354, 'Advanced Heart Failure and Transplant Cardiology': 24, 'Osteopathic Manipulative Medicine': 674, 'Vascular Surgery': 3056, 'Behavior Analyst': 22, 'Critical Care (Intensivists)': 1566, 'Physical Therapist in Private Practice': 108, 'Clinical Cardiac Electrophysiology': 2095, 'Community Health Worker': 20, 'Psychologist, Clinical': 331, 'Addiction Medicine': 268, 'Undefined Physician type': 400, 'Colorectal Surgery (Proctology)': 1484, 'Hematology': 694, 'Psychoanalyst': 47, 'Maxillofacial Surgery': 1139, 'Registered Nurse': 960, 'Family Medicine': 700, 'Denturist': 6, 'Surgical Oncology': 813, 'Pathology': 958, 'Oral & Maxillofacial Surgery': 410, 'Chiropractic': 164, 'Certified Registered Nurse Anesthetist (CRNA)': 338, 'Neurological Surgery': 576, 'Physical Medicine & Rehabilitation': 28, 'Interventional Pain Management': 1725, 'Counselor': 322, 'Hospital': 68, 'Adult Companion': 2, 'Legal Medicine': 184, 'Radiology': 108, 'Plastic Surgery': 1062, 'General Acute Care Hospital': 451, 'Sleep Medicine': 386, 'Colon & Rectal Surgery': 103, 'Peripheral Vascular Disease': 60, 'Gynecological Oncology': 965, 'Thoracic Surgery (Cardiothoracic Vascular Surgery)': 285, 'Acupuncturist': 86, 'Midwife': 158, 'Prosthetist': 3, 'Licensed Practical Nurse': 77, 'Personal Emergency Response Attendant': 106, 'Skilled Nursing Facility': 1, 'Clinic/Center': 216, 'Technician/Technologist': 6, 'Clinic or Group Practice': 79, 'Slide Preparation Facility': 7, 'Case Manager/Care Coordinator': 44, 'Neuromusculoskeletal Medicine, Sports Medicine': 62, 'Psychologist': 83, 'Contractor': 30, 'Medical Genetics, Ph.D. Medical Genetics': 37, 'Geriatric Psychiatry': 208, 'Rehabilitation Agency': 20, 'Medical Genetics': 39, 'Emergency Medical Technician, Basic': 13, 'Doula': 1, 'Independent Medical Examiner': 29, 'Military Health Care Provider': 35, 'Speech Language Pathologist': 55, 'Physical Therapy Assistant': 16, 'Specialist/Technologist': 17, 'Specialist/Technologist, Other': 15, 'Pediatrics': 15, 'Ambulatory Surgical Center': 19, 'Clinical Pharmacology': 15, 'Developmental Therapist': 10, 'Registered Dietitian or Nutrition Professional': 16, 'Orthotic Fitter': 2, 'Technician, Cardiology': 1, 'Substance Abuse Rehabilitation Facility': 5, 'Mechanotherapist': 3, 'Preferred Provider Organization': 9, 'Homeopath': 8, 'Anesthesiology Assistant': 9, 'Military Hospital': 5, 'Health Educator': 16, 'Rehabilitation Practitioner': 28, 'Clinical Neuropsychologist': 10, 'Chore Provider': 5, 'Radiology Practitioner Assistant': 2, 'Non-emergency Medical Transport (VAN)': 1, 'Occupational Therapist in Private Practice': 51, 'Social Worker': 26, 'Other Medical Supply Company': 1, 'Durable Medical Equipment & Medical Supplies': 7, 'Genetic Counselor, MS': 3, 'Community/Behavioral Health': 6, 'Dental Therapist': 1, 'Health Maintenance Organization': 14, 'Pharmacy Technician': 7, 'Massage Therapist': 10, 'Home Health': 3, 'Dietetic Technician, Registered': 1, 'Residential Treatment Facility, Physical Disabilities': 2, 'Nutritionist': 4, 'Assistant, Podiatric': 6, 'Veterinarian': 4, 'Case Management': 4, 'Licensed Psychiatric Technician': 1, 'Chronic Disease Hospital': 13, 'Oral Medicinist': 2, 'Advanced Practice Dental Therapist': 3, 'Technician': 2, 'Unknown Supplier/Provider Specialty': 6, 'Occupational Therapy Assistant': 7, 'Clinical Medical Laboratory': 4, 'Emergency Medical Technician, Paramedic': 2, 'Naprapath': 3, 'Phlebology': 10, 'Point of Service': 4, 'Optician': 3, 'Mass Immunizer Roster Biller': 4, 'Electrodiagnostic Medicine': 1, 'Dental Laboratory Technician': 1, 'Radiologic Technologist': 2, 'Emergency Medical Technician, Intermediate': 2, 'Audiologist': 7, 'Respite Care': 1, 'Religious Nonmedical Practitioner': 1, 'Specialist/Technologist, Pathology': 4, 'Respiratory Therapist, Registered': 3, 'Licensed Vocational Nurse': 6, 'Dental Assistant': 3, 'Lactation Consultant, Non-RN': 3, 'Home Health Aide': 5, 'Hearing Instrument Specialist': 3, \"Nurse's Aide\": 3, 'Dental Hygienist': 9, 'Religious Nonmedical Nursing Personnel': 3, 'Psychiatric Residential Treatment Facility': 1, 'Specialist/Technologist Cardiovascular': 1, 'Community Based Residential Treatment Facility, Mental Retardation and/or D': 2, 'Voluntary Health or Charitable Agency': 1, 'Early Intervention Provider Agency': 1, 'Driver': 3, 'Other Nursing Facility': 2, 'Private Vehicle': 1, 'Homemaker': 1, 'Sleep Specialist, PhD': 1, 'Public Health or Welfare Agency': 4, 'Prevention Professional': 1, 'Lodging': 1, 'Respiratory Therapist, Certified': 3, 'Local Education Agency (LEA)': 1, 'Technician, Pathology': 2, 'Residential Treatment Facility, Emotionally Disturbed Children': 1, 'Hematopoietic Cell Transplantation and Cellular Therapy': 1, 'Radiation Therapy Center': 1, 'Perfusionist': 1, 'Dietary Manager': 1, 'Clinical Laboratory': 1}\n"
          ],
          "name": "stdout"
        }
      ]
    },
    {
      "cell_type": "code",
      "metadata": {
        "id": "ojenYdydl96L",
        "colab_type": "code",
        "colab": {
          "base_uri": "https://localhost:8080/",
          "height": 122
        },
        "outputId": "729a6c12-a5e2-4337-e98a-8d1bb7747b1b"
      },
      "source": [
        "specialty_changes = {}\n",
        "specialty_changes_list = []\n",
        "specialty_changes_frac_list = []\n",
        "for specialty in specialty_numbers_16:\n",
        "    if specialty_numbers_16[specialty] >= 1000:\n",
        "        if specialty in specialty_numbers_17:\n",
        "            specialty_changes[specialty] = specialty_numbers_17[specialty]-specialty_numbers_16[specialty]\n",
        "            specialty_changes_list.append(np.abs(specialty_changes[specialty]))\n",
        "            specialty_changes_frac_list.append(np.abs(specialty_changes[specialty])/specialty_numbers_16[specialty])\n",
        "        else:\n",
        "            specialty_changes[specialty] = specialty_numbers_16[specialty]\n",
        "            specialty_changes_list.append(np.abs(specialty_changes[specialty]))\n",
        "            specialty_changes_frac_list.append(np.abs(specialty_changes[specialty])/specialty_numbers_16[specialty])\n",
        "\n",
        "mod_specialty_changes_frac_list = [i for i in specialty_changes_frac_list if i!=1.0]\n",
        "print(mod_specialty_changes_frac_list)\n",
        "largest_frac = np.max(mod_specialty_changes_frac_list)\n",
        "print (\"The largest fractional change is %0.3f\" %(largest_frac))\n",
        "print(specialty_changes)\n",
        "print(specialty_changes_list)\n",
        "print(specialty_changes_frac_list)\n"
      ],
      "execution_count": 95,
      "outputs": [
        {
          "output_type": "stream",
          "text": [
            "[0.02156577109646027, 0.01713091922005571, 0.007682221365214038, 0.11712208500819898, 0.008743849122871203, 0.19462861373809442, 0.005317294281729428, 0.00028011204481792715, 0.0727580372250423, 0.06643376800064565, 0.020412861637633336, 0.01368547418967587, 0.00898531667762437, 0.02474776318294308, 0.000985822927424655, 0.02861602497398543, 0.004504857411469759, 0.01159047005795235, 0.024383049847605937, 0.016769185705916814, 0.026382095746257595, 0.017324690630524456, 0.001813236627379873, 0.029753265602322207, 0.018267784225231034, 0.001366189343723119, 0.020049584995149295, 0.002011494252873563, 0.0022286605749944283, 0.08739605413337681, 0.12386487468216491, 0.018426966292134833, 0.03980999773806831, 0.0036307053941908715, 0.06760899182561309, 0.003877847794474067, 0.0011160714285714285, 0.0017219113215669393, 0.055323105532310554, 0.0032711808963035655, 0.031151557577878894, 0.02426717924074964, 0.04262326842972004, 0.03018867924528302, 0.0815838426787138, 0.024869109947643978, 0.043621943159286185, 0.11833333333333333, 0.021402214022140223, 0.004477611940298508, 0.030343897505057317, 0.10131332082551595, 0.027700831024930747, 0.006974716652136007, 0.043222003929273084, 0.009362200117027502]\n",
            "The largest fractional change is 0.195\n",
            "{'Internal Medicine': -2872, 'Anesthesiology': -123, 'Dentist': 996, 'Nurse Practitioner': 16142, 'Family Practice': 956, 'Obstetrics & Gynecology': 5783, 'General Surgery': -122, 'Urology': -3, 'Cardiac Surgery': -86, 'Physician Assistant': 5762, 'Dermatology': 266, 'Physical Medicine and Rehabilitation': 114, 'Radiation Oncology': 41, 'Infectious Disease': 130, 'Orthopedic Surgery': 21, 'Endocrinology': 165, 'Psychiatry': -115, 'Rheumatology': 54, 'General Practice': -248, 'Neurology': 229, 'Emergency Medicine': 1246, 'Nephrology': 147, 'Preventive Medicine': 2, 'Hand Surgery': 41, 'Psychiatry & Neurology': 255, 'Ophthalmology': 27, 'Cardiovascular Disease (Cardiology)': 20370, 'Pulmonary Disease': 186, 'Otolaryngology': 21, 'Plastic and Reconstructive Surgery': 10, 'Pharmacist': 536, 'Interventional Cardiology': 341, 'Gastroenterology': 246, 'Diagnostic Radiology': -176, 'Geriatric Medicine': -7, 'Pediatric Medicine': -794, 'Neurosurgery': -16, 'Thoracic Surgery': -2, 'Neuropsychiatry': -4, 'Pain Management': 119, 'Oral Surgery (Dentists only)': 5698, 'Podiatry': 50, 'Optometry': 890, 'Hematology-Oncology': 202, 'Student in an Organized Health Care Education/Training Program': 2200, 'Certified Nurse Midwife': 72, 'Specialist': -307, 'Critical Care (Intensivists)': 38, 'Medical Oncology': 132, 'Allergy/ Immunology': 426, 'Obstetrics/Gynecology': 5985, 'Certified Clinical Nurse Specialist': -58, 'Orthopaedic Surgery': -12, 'Vascular Surgery': 90, 'Clinical Cardiatric Electrophysiology': 1884, 'Pathology': -108, 'Colorectal Surgery (Proctology)': 40, 'Maxillofacial Surgery': -8, 'Plastic Surgery': 44, 'Interventional Pain Management': 16}\n",
            "[2872, 123, 996, 16142, 956, 5783, 122, 3, 86, 5762, 266, 114, 41, 130, 21, 165, 115, 54, 248, 229, 1246, 147, 2, 41, 255, 27, 20370, 186, 21, 10, 536, 341, 246, 176, 7, 794, 16, 2, 4, 119, 5698, 50, 890, 202, 2200, 72, 307, 38, 132, 426, 5985, 58, 12, 90, 1884, 108, 40, 8, 44, 16]\n",
            "[0.02156577109646027, 0.01713091922005571, 0.007682221365214038, 0.11712208500819898, 0.008743849122871203, 0.19462861373809442, 0.005317294281729428, 0.00028011204481792715, 0.0727580372250423, 0.06643376800064565, 0.020412861637633336, 0.01368547418967587, 0.00898531667762437, 0.02474776318294308, 0.000985822927424655, 0.02861602497398543, 0.004504857411469759, 0.01159047005795235, 0.024383049847605937, 0.016769185705916814, 0.026382095746257595, 0.017324690630524456, 0.001813236627379873, 0.029753265602322207, 0.018267784225231034, 0.001366189343723119, 1.0, 0.020049584995149295, 0.002011494252873563, 0.0022286605749944283, 0.08739605413337681, 0.12386487468216491, 0.018426966292134833, 0.03980999773806831, 0.0036307053941908715, 0.06760899182561309, 0.003877847794474067, 0.0011160714285714285, 0.0017219113215669393, 0.055323105532310554, 1.0, 0.0032711808963035655, 0.031151557577878894, 0.02426717924074964, 0.04262326842972004, 0.03018867924528302, 0.0815838426787138, 0.024869109947643978, 0.043621943159286185, 0.11833333333333333, 1.0, 0.021402214022140223, 0.004477611940298508, 0.030343897505057317, 1.0, 0.10131332082551595, 0.027700831024930747, 0.006974716652136007, 0.043222003929273084, 0.009362200117027502]\n"
          ],
          "name": "stdout"
        }
      ]
    },
    {
      "cell_type": "code",
      "metadata": {
        "id": "OSfJe4lPevvV",
        "colab_type": "code",
        "colab": {}
      },
      "source": [
        "if state in state_collate:\n",
        "        #state_collate[state]=[]\n",
        "        if math.isnan(row[53]) == False:\n",
        "            state_collate[state][0] += row[53]\n",
        "        if math.isnan(row[62]) == False : \n",
        "            state_collate[state][1] += row[62]"
      ],
      "execution_count": 0,
      "outputs": []
    },
    {
      "cell_type": "markdown",
      "metadata": {
        "id": "DGXBqxvS0QzJ",
        "colab_type": "text"
      },
      "source": [
        "# Number 3"
      ]
    },
    {
      "cell_type": "code",
      "metadata": {
        "id": "MsRcfoNq1amh",
        "colab_type": "code",
        "colab": {}
      },
      "source": [
        "def gen_samples(N):\n",
        "  \n",
        "  data = np.random.choice(np.arange(1, N+1), size = N, replace = False)\n",
        "  samples = []\n",
        "  for idx in range(N):\n",
        "    if idx == 0:\n",
        "      samples.append(data[idx])\n",
        "    else:\n",
        "      samples.append(abs(data[idx] - data[idx -1]))\n",
        "\n",
        "  #print(data)\n",
        "  #print(samples) \n",
        "  return samples"
      ],
      "execution_count": 0,
      "outputs": []
    },
    {
      "cell_type": "code",
      "metadata": {
        "id": "Kr5PHMnI7zjH",
        "colab_type": "code",
        "colab": {}
      },
      "source": [
        "def gen_samples_v2(N, num_of_samples):\n",
        "\n",
        "  samples = []\n",
        "  for i in range(num_of_samples):\n",
        "    samples.append(sum(gen_samples(N)))\n",
        "  return np.array(samples)"
      ],
      "execution_count": 0,
      "outputs": []
    },
    {
      "cell_type": "markdown",
      "metadata": {
        "id": "K6_zd6RpZOq6",
        "colab_type": "text"
      },
      "source": [
        "For  N = 20"
      ]
    },
    {
      "cell_type": "code",
      "metadata": {
        "id": "PoflCgPQ9DZz",
        "colab_type": "code",
        "outputId": "38e63b37-d710-4bff-d979-e4d7159d424f",
        "colab": {
          "base_uri": "https://localhost:8080/",
          "height": 68
        }
      },
      "source": [
        "samples_ = gen_samples_v2(N = 20, num_of_samples = 1000000)\n",
        "print(\"Mean is %.4f\" %(np.mean(samples_)))\n",
        "print(\"Standard Deviation is %.4f\" %(np.std(samples_)))\n",
        "print(\"Probability that total payment is greater than or eqaul to 160  is %.5f\" %(np.mean(samples_ >= 160)))"
      ],
      "execution_count": 57,
      "outputs": [
        {
          "output_type": "stream",
          "text": [
            "Mean is 143.5111\n",
            "Standard Deviation is 18.4343\n",
            "Probability that total payment is greater than or eqaul to 160  is 0.19836\n"
          ],
          "name": "stdout"
        }
      ]
    },
    {
      "cell_type": "code",
      "metadata": {
        "id": "-i4OU0Jj90vg",
        "colab_type": "code",
        "outputId": "5f68e9fc-60d1-480e-9cbd-a94b27b272a5",
        "colab": {
          "base_uri": "https://localhost:8080/",
          "height": 34
        }
      },
      "source": [
        "np.mean(samples_ >= 160)"
      ],
      "execution_count": 52,
      "outputs": [
        {
          "output_type": "execute_result",
          "data": {
            "text/plain": [
              "0.19825"
            ]
          },
          "metadata": {
            "tags": []
          },
          "execution_count": 52
        }
      ]
    },
    {
      "cell_type": "markdown",
      "metadata": {
        "id": "CxkpUg6MZp3c",
        "colab_type": "text"
      },
      "source": [
        "For N = 10"
      ]
    },
    {
      "cell_type": "code",
      "metadata": {
        "id": "0EuOFJajZsfU",
        "colab_type": "code",
        "colab": {
          "base_uri": "https://localhost:8080/",
          "height": 68
        },
        "outputId": "03463b9d-c907-47c8-a74f-1a65161b3e7f"
      },
      "source": [
        "samples_10 = gen_samples_v2(N = 10, num_of_samples = 1000000)\n",
        "print(\"Mean is %.4f\" %(np.mean(samples_10)))\n",
        "print(\"Standard Deviation is %.4f\" %(np.std(samples_10)))\n",
        "print(\"Probability that total payment is greater than or eqaul to 45 is %.5f\" %(np.mean(samples_10 >= 45)))"
      ],
      "execution_count": 58,
      "outputs": [
        {
          "output_type": "stream",
          "text": [
            "Mean is 38.4974\n",
            "Standard Deviation is 6.3667\n",
            "Probability that total payment is greater than or eqaul to 45 is 0.18214\n"
          ],
          "name": "stdout"
        }
      ]
    }
  ]
}