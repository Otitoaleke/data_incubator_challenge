{
  "nbformat": 4,
  "nbformat_minor": 0,
  "metadata": {
    "colab": {
      "name": "TDI_Q1.ipynb",
      "provenance": [],
      "collapsed_sections": [],
      "toc_visible": true,
      "authorship_tag": "ABX9TyMmgeDFEgLpg4ALbU/TviAs",
      "include_colab_link": true
    },
    "kernelspec": {
      "name": "python3",
      "display_name": "Python 3"
    }
  },
  "cells": [
    {
      "cell_type": "markdown",
      "metadata": {
        "id": "view-in-github",
        "colab_type": "text"
      },
      "source": [
        "<a href=\"https://colab.research.google.com/github/Otitoaleke/data_incubator_challenge/blob/master/TDI_Q1.ipynb\" target=\"_parent\"><img src=\"https://colab.research.google.com/assets/colab-badge.svg\" alt=\"Open In Colab\"/></a>"
      ]
    },
    {
      "cell_type": "code",
      "metadata": {
        "id": "ibftJ8uGknLa",
        "colab_type": "code",
        "colab": {}
      },
      "source": [
        "import os\n",
        "import numpy as np\n",
        "import pandas as pd\n",
        "import math\n",
        "import scipy.stats"
      ],
      "execution_count": 0,
      "outputs": []
    },
    {
      "cell_type": "code",
      "metadata": {
        "id": "dCpmQKOkute4",
        "colab_type": "code",
        "outputId": "20aad24c-04b1-4b52-c12b-9fe388002e06",
        "colab": {
          "base_uri": "https://localhost:8080/",
          "height": 34
        }
      },
      "source": [
        "from google.colab import drive\n",
        "drive.mount('/content/drive')"
      ],
      "execution_count": 0,
      "outputs": [
        {
          "output_type": "stream",
          "text": [
            "Drive already mounted at /content/drive; to attempt to forcibly remount, call drive.mount(\"/content/drive\", force_remount=True).\n"
          ],
          "name": "stdout"
        }
      ]
    },
    {
      "cell_type": "code",
      "metadata": {
        "id": "72q5sJWnu8aX",
        "colab_type": "code",
        "colab": {}
      },
      "source": [
        ""
      ],
      "execution_count": 0,
      "outputs": []
    },
    {
      "cell_type": "code",
      "metadata": {
        "id": "G3UezKPU_P5U",
        "colab_type": "code",
        "outputId": "6c69940c-1662-4378-e581-cdd8bc30face",
        "colab": {
          "base_uri": "https://localhost:8080/",
          "height": 51
        }
      },
      "source": [
        "df = pd.read_csv(\"/content/drive/My Drive/Colab Notebooks/humansequences.csv\",  encoding = 'unicode_escape')\n",
        "data_list = df.values.tolist()"
      ],
      "execution_count": 0,
      "outputs": [
        {
          "output_type": "stream",
          "text": [
            "/usr/local/lib/python3.6/dist-packages/IPython/core/interactiveshell.py:2718: DtypeWarning: Columns (9,11,15,16) have mixed types.Specify dtype option on import or set low_memory=False.\n",
            "  interactivity=interactivity, compiler=compiler, result=result)\n"
          ],
          "name": "stderr"
        }
      ]
    },
    {
      "cell_type": "code",
      "metadata": {
        "id": "Lt00o-XeBBrS",
        "colab_type": "code",
        "colab": {}
      },
      "source": [
        "def extract(index, data_list):\n",
        "    column = []    \n",
        "    for row in data_list[0:]:\n",
        "        #print(row)\n",
        "        value = row[index]\n",
        "        column.append(value)    \n",
        "    return column"
      ],
      "execution_count": 0,
      "outputs": []
    },
    {
      "cell_type": "code",
      "metadata": {
        "id": "2CjctYCJBLfe",
        "colab_type": "code",
        "outputId": "49f06515-d5bc-4111-c2b1-8a20c1750969",
        "colab": {
          "base_uri": "https://localhost:8080/",
          "height": 102
        }
      },
      "source": [
        "Length = extract(5, data_list)\n",
        "intervals = np.max(Length) - np.min(Length)\n",
        "print(intervals)\n",
        "np.histogram(Length,bins = [0, 1*25000 , 2*25000 , 3*25000 ,4*25000,5*25000 ,6*25000, 7*25000 ,8*25000, 9*25000 ,10*25000]) "
      ],
      "execution_count": 19,
      "outputs": [
        {
          "output_type": "stream",
          "text": [
            "243957\n"
          ],
          "name": "stdout"
        },
        {
          "output_type": "execute_result",
          "data": {
            "text/plain": [
              "(array([1978159,    3191,       2,       2,     126,     195,    1733,\n",
              "             63,      20,     308]),\n",
              " array([     0,  25000,  50000,  75000, 100000, 125000, 150000, 175000,\n",
              "        200000, 225000, 250000]))"
            ]
          },
          "metadata": {
            "tags": []
          },
          "execution_count": 19
        }
      ]
    },
    {
      "cell_type": "code",
      "metadata": {
        "id": "dp-L1FGkN2tL",
        "colab_type": "code",
        "colab": {
          "base_uri": "https://localhost:8080/",
          "height": 309
        },
        "outputId": "97e4252f-72a7-44b2-d3ef-1cb275c28efb"
      },
      "source": [
        "from matplotlib import pyplot as plt \n",
        "plt.hist(Length,bins = [0, 1*25000 , 2*25000 , 3*25000 ,4*25000,5*25000 ,6*25000, 7*25000 ,8*25000, 9*25000 ,10*25000])\n",
        "plt.title(\"Distribution of Length of nucleotides of Human Viruses\", fontsize=20)\n",
        "plt.xlabel('Length of Nucleotides', fontsize=20)\n",
        "plt.ylabel('Number of Viruses', fontsize=20) \n",
        "plt.yscale('log')\n",
        "plt.show()"
      ],
      "execution_count": 23,
      "outputs": [
        {
          "output_type": "display_data",
          "data": {
            "image/png": "[encoded data removed]",
            "text/plain": [
              "<Figure size 432x288 with 1 Axes>"
            ]
          },
          "metadata": {
            "tags": [],
            "needs_background": "light"
          }
        }
      ]
    }
  ]
}