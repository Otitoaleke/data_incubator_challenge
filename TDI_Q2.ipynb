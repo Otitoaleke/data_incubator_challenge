{
  "nbformat": 4,
  "nbformat_minor": 0,
  "metadata": {
    "colab": {
      "name": "TDI_Q2.ipynb",
      "provenance": [],
      "collapsed_sections": [],
      "toc_visible": true,
      "include_colab_link": true
    },
    "kernelspec": {
      "name": "python3",
      "display_name": "Python 3"
    }
  },
  "cells": [
    {
      "cell_type": "markdown",
      "metadata": {
        "id": "view-in-github",
        "colab_type": "text"
      },
      "source": [
        "<a href=\"https://colab.research.google.com/github/Otitoaleke/data_incubator_challenge/blob/master/TDI_Q2.ipynb\" target=\"_parent\"><img src=\"https://colab.research.google.com/assets/colab-badge.svg\" alt=\"Open In Colab\"/></a>"
      ]
    },
    {
      "cell_type": "markdown",
      "metadata": {
        "id": "jiPMGtm8eCoS",
        "colab_type": "text"
      },
      "source": [
        "# Number 2"
      ]
    },
    {
      "cell_type": "markdown",
      "metadata": {
        "id": "IlO-HfpD9CFO",
        "colab_type": "text"
      },
      "source": [
        "## Import libraries"
      ]
    },
    {
      "cell_type": "code",
      "metadata": {
        "id": "HP1XfSc58z_F",
        "colab_type": "code",
        "colab": {}
      },
      "source": [
        "import os\n",
        "import numpy as np\n",
        "import pandas as pd\n",
        "import math\n",
        "import scipy.stats"
      ],
      "execution_count": 0,
      "outputs": []
    },
    {
      "cell_type": "markdown",
      "metadata": {
        "id": "d9VcT5ZT96eF",
        "colab_type": "text"
      },
      "source": [
        "## Import the dataset"
      ]
    },
    {
      "cell_type": "code",
      "metadata": {
        "id": "GUXny5Vs-yOU",
        "colab_type": "code",
        "outputId": "970fd3c9-7fe1-4483-b5b3-14d69f03ff12",
        "colab": {
          "base_uri": "https://localhost:8080/",
          "height": 122
        }
      },
      "source": [
        "from google.colab import drive\n",
        "drive.mount('/content/drive')"
      ],
      "execution_count": 2,
      "outputs": [
        {
          "output_type": "stream",
          "text": [
            "Go to this URL in a browser: https://accounts.google.com/o/oauth2/auth?client_id=947318989803-6bn6qk8qdgf4n4g3pfee6491hc0brc4i.apps.googleusercontent.com&redirect_uri=urn%3aietf%3awg%3aoauth%3a2.0%3aoob&response_type=code&scope=email%20https%3a%2f%2fwww.googleapis.com%2fauth%2fdocs.test%20https%3a%2f%2fwww.googleapis.com%2fauth%2fdrive%20https%3a%2f%2fwww.googleapis.com%2fauth%2fdrive.photos.readonly%20https%3a%2f%2fwww.googleapis.com%2fauth%2fpeopleapi.readonly\n",
            "\n",
            "Enter your authorization code:\n",
            "··········\n",
            "Mounted at /content/drive\n"
          ],
          "name": "stdout"
        }
      ]
    },
    {
      "cell_type": "code",
      "metadata": {
        "id": "G3UezKPU_P5U",
        "colab_type": "code",
        "colab": {}
      },
      "source": [
        "df = pd.read_csv(\"/content/drive/My Drive/Colab Notebooks/PartD_Prescriber_PUF_NPI_17.txt\", sep='\\t')\n",
        "data_list = df.values.tolist()"
      ],
      "execution_count": 0,
      "outputs": []
    },
    {
      "cell_type": "code",
      "metadata": {
        "id": "m8j9m9jBBg5i",
        "colab_type": "code",
        "colab": {}
      },
      "source": [
        "def extract(index, data_list):\n",
        "    column = []    \n",
        "    for row in data_list[0:]:\n",
        "        #print(row)\n",
        "        value = row[index]\n",
        "        column.append(value)    \n",
        "    return column"
      ],
      "execution_count": 0,
      "outputs": []
    },
    {
      "cell_type": "code",
      "metadata": {
        "id": "xspo5c6GAvvB",
        "colab_type": "code",
        "outputId": "a4222e17-a445-41f8-d99a-f8d92639ec43",
        "colab": {
          "base_uri": "https://localhost:8080/",
          "height": 34
        }
      },
      "source": [
        "bene_count = extract(21, data_list)\n",
        "\n",
        "print(type(bene_count))\n",
        "counted_bene_count = []"
      ],
      "execution_count": 5,
      "outputs": [
        {
          "output_type": "stream",
          "text": [
            "<class 'list'>\n"
          ],
          "name": "stdout"
        }
      ]
    },
    {
      "cell_type": "markdown",
      "metadata": {
        "id": "fMMM-hCve8aU",
        "colab_type": "text"
      },
      "source": [
        "In 2017, what was the average number of beneficiaries per provider? Due to the suppression of data for those with few beneficiaries, we can only include those with more than 10 beneficiaries. "
      ]
    },
    {
      "cell_type": "code",
      "metadata": {
        "id": "gNZIMfpc5BgW",
        "colab_type": "code",
        "outputId": "7f66af32-84e7-4e98-ce43-ef732d77711d",
        "colab": {
          "base_uri": "https://localhost:8080/",
          "height": 34
        }
      },
      "source": [
        "def average_bene_count():\n",
        "    for item in bene_count:\n",
        "        entry = float(item)\n",
        "        if math.isnan(entry) == False:\n",
        "            counted_bene_count.append(entry)\n",
        "    #print(counted_bene_count)\n",
        "    average_no_of_bene = sum(counted_bene_count)/len(counted_bene_count)\n",
        "    return(average_no_of_bene)\n",
        "\n",
        "print(average_bene_count())"
      ],
      "execution_count": 6,
      "outputs": [
        {
          "output_type": "stream",
          "text": [
            "158.3494585173676\n"
          ],
          "name": "stdout"
        }
      ]
    },
    {
      "cell_type": "code",
      "metadata": {
        "id": "hclXNpPRCJjn",
        "colab_type": "code",
        "colab": {}
      },
      "source": [
        "specialty_collate = {}\n",
        "\n",
        "for row in data_list:\n",
        "    specialty = row[14]\n",
        "    if math.isnan(row[30]) == False:\n",
        "        if specialty in specialty_collate:\n",
        "            specialty_collate[specialty]= [specialty_collate[specialty][0] + row[17], specialty_collate[specialty][1]+ row[30]]\n",
        "        else:\n",
        "            specialty_collate[specialty]= [ row[17], row[30]]\n",
        "#print(specialty_collate)\n",
        "\n"
      ],
      "execution_count": 0,
      "outputs": []
    },
    {
      "cell_type": "markdown",
      "metadata": {
        "id": "-6dF-9w0eOX_",
        "colab_type": "text"
      },
      "source": [
        "Work out for each Specialty the fraction of drug claims that are for brand-name drugs. Include only providers for whom the relevant information has not been suppressed, and consider only specialties with at least 1000 total claims. What is the standard deviation of these fractions? "
      ]
    },
    {
      "cell_type": "code",
      "metadata": {
        "id": "khyHVEhtCwcf",
        "colab_type": "code",
        "outputId": "b1062bce-d579-4930-f537-b39619228e89",
        "colab": {
          "base_uri": "https://localhost:8080/",
          "height": 34
        }
      },
      "source": [
        "fractions = []\n",
        "for specialty in specialty_collate:\n",
        "    fractions.append(specialty_collate[specialty][1]/specialty_collate[specialty][0])\n",
        "\n",
        "#print(fractions)\n",
        "standard_deviation = np.std(fractions)\n",
        "print(standard_deviation)\n"
      ],
      "execution_count": 8,
      "outputs": [
        {
          "output_type": "stream",
          "text": [
            "0.13218193916228735\n"
          ],
          "name": "stdout"
        }
      ]
    },
    {
      "cell_type": "markdown",
      "metadata": {
        "id": "DaObTF7hspo4",
        "colab_type": "text"
      },
      "source": [
        "Let's find which states have surprisingly high supply of opioids, conditioned on specialty. Work out the average length of an opioid prescription for each provider. For each (state, specialty) pair with at least 100 providers, calculate the average of this value across all providers. Then find the ratio of this value to an equivalent quantity calculated from providers in each specialty across all states. What is the largest such ratio? "
      ]
    },
    {
      "cell_type": "code",
      "metadata": {
        "id": "zDVQRf1VstTR",
        "colab_type": "code",
        "colab": {}
      },
      "source": [
        "#average length of opioid prescription = Number of day's ssupply of all opioid drugs ( col 53) / total claims of opioid drugs (col 51)\n",
        "\n",
        "avg_len_op_pres = []\n",
        "for row in data_list:\n",
        "    if float(row[50]) != 0 and math.isnan(row[52]) == False: \n",
        "        avg_len_op_pres.append([row[0], float(row[52])/ float(row[50]), row[12], row[14]])\n",
        "\n",
        "#print(avg_len_op_pres[:20])\n",
        "\n"
      ],
      "execution_count": 0,
      "outputs": []
    },
    {
      "cell_type": "code",
      "metadata": {
        "id": "I2ICVnGVDeT_",
        "colab_type": "code",
        "colab": {}
      },
      "source": [
        "specialty_group = {}\n",
        "for item in avg_len_op_pres:\n",
        "    specialty = item[3]\n",
        "\n",
        "    if specialty in specialty_group:\n",
        "        specialty_group[specialty].append(item[1])\n",
        "        \n",
        "    else:\n",
        "        specialty_group[specialty] = [(item[1])]\n",
        "       \n"
      ],
      "execution_count": 0,
      "outputs": []
    },
    {
      "cell_type": "code",
      "metadata": {
        "id": "rIIhz5lwJUSz",
        "colab_type": "code",
        "colab": {}
      },
      "source": [
        "#mean within specialty groups\n",
        "specialty_averages = {}\n",
        "\n",
        "for specialty in specialty_group:\n",
        "    specialty_averages[specialty] = np.mean(specialty_group[specialty])\n",
        "\n",
        "#print(specialty_averages)"
      ],
      "execution_count": 0,
      "outputs": []
    },
    {
      "cell_type": "code",
      "metadata": {
        "id": "D882kPRFKIPt",
        "colab_type": "code",
        "colab": {}
      },
      "source": [
        "specialty_avg_in_states = {}\n",
        "for item in avg_len_op_pres:\n",
        "    specialty = item[3]\n",
        "    state = item[2]\n",
        "\n",
        "    if state in specialty_avg_in_states:\n",
        "        if specialty in specialty_avg_in_states[state]:\n",
        "           specialty_avg_in_states[state][specialty].append(item[1])\n",
        "        else:\n",
        "           specialty_avg_in_states[state][specialty] = [(item[1])]\n",
        "\n",
        "    else:\n",
        "        specialty_avg_in_states[state] = {}\n",
        "\n",
        "        if specialty in specialty_avg_in_states[state]:\n",
        "           specialty_avg_in_states[state][specialty].append(item[1])\n",
        "        else:\n",
        "           specialty_avg_in_states[state][specialty] = [(item[1])]\n"
      ],
      "execution_count": 0,
      "outputs": []
    },
    {
      "cell_type": "code",
      "metadata": {
        "id": "3w3qZgBwNLQw",
        "colab_type": "code",
        "outputId": "bb4523bf-c812-494a-e412-bd7b1fd6991a",
        "colab": {
          "base_uri": "https://localhost:8080/",
          "height": 34
        }
      },
      "source": [
        "state_specialty_avg_dict = {}\n",
        "state_specialty_ratio_list = []\n",
        "for state in specialty_avg_in_states:\n",
        "    for specialty in specialty_avg_in_states[state]:\n",
        "        if len(specialty_avg_in_states[state][specialty]) >=100:\n",
        "            mean_vals = np.mean(specialty_avg_in_states[state][specialty])\n",
        "            state_specialty_avg_dict[state]= {specialty: mean_vals}\n",
        "            state_specialty_ratio_list.append(mean_vals/specialty_averages[specialty])\n",
        "\n",
        "#print(state_specialty_avg_dict)\n",
        "#print(state_specialty_ratio_list)\n",
        "\n",
        "largest_ratio = np.max(state_specialty_ratio_list)\n",
        "print(largest_ratio)"
      ],
      "execution_count": 13,
      "outputs": [
        {
          "output_type": "stream",
          "text": [
            "1.4851731533528136\n"
          ],
          "name": "stdout"
        }
      ]
    },
    {
      "cell_type": "markdown",
      "metadata": {
        "id": "VdxGbbomP3aN",
        "colab_type": "text"
      },
      "source": [
        "For each provider, estimate the length of the average prescription from the total_day_supply and total_claim_count. What is the median, in days, of the distribution of this value across all providers? "
      ]
    },
    {
      "cell_type": "code",
      "metadata": {
        "id": "Li-Eex2SQEKv",
        "colab_type": "code",
        "outputId": "bb29b9de-333c-47c4-ed8f-f013c6b8ffa3",
        "colab": {
          "base_uri": "https://localhost:8080/",
          "height": 34
        }
      },
      "source": [
        "prescription_length = []\n",
        "for row in data_list:\n",
        "    prescription_length.append(row[20]/row[17])\n",
        "\n",
        "prescription_median = np.median(prescription_length)\n",
        "print(prescription_median)\n"
      ],
      "execution_count": 14,
      "outputs": [
        {
          "output_type": "stream",
          "text": [
            "29.7125748502994\n"
          ],
          "name": "stdout"
        }
      ]
    },
    {
      "cell_type": "markdown",
      "metadata": {
        "id": "NnbgYAVeTCFr",
        "colab_type": "text"
      },
      "source": [
        "Find the ratio of beneficiaries with opioid prescriptions to beneficiaries with antibiotics prescriptions in each state. Assume that each beneficiary attends only a single provider. What is the difference between the largest and smallest ratios? "
      ]
    },
    {
      "cell_type": "code",
      "metadata": {
        "id": "1tK5e-G0TIJ5",
        "colab_type": "code",
        "outputId": "d947826a-7838-4926-801a-6a0590e47ca1",
        "colab": {
          "base_uri": "https://localhost:8080/",
          "height": 34
        }
      },
      "source": [
        "state_collate = {}\n",
        "\n",
        "for row in data_list:\n",
        "    state = row[12]\n",
        "    if state in state_collate:\n",
        "        #state_collate[state]=[]\n",
        "        if math.isnan(row[53]) == False:\n",
        "            state_collate[state][0] += row[53]\n",
        "        if math.isnan(row[62]) == False : \n",
        "            state_collate[state][1] += row[62]\n",
        "    else:\n",
        "        state_collate[state]=[]\n",
        "        if math.isnan(row[53]) == False:\n",
        "            state_collate[state].append(row[53])\n",
        "        else:\n",
        "            state_collate[state].append(0)\n",
        "        if math.isnan(row[62]) == False : \n",
        "            state_collate[state].append(row[62])\n",
        "        else:\n",
        "            state_collate[state].append(0)\n",
        "#print(state_collate)\n",
        "        \n",
        "ratios = []\n",
        "for state in state_collate:\n",
        "    ratios.append(state_collate[state][0]/state_collate[state][1])\n",
        "\n",
        "ratio_range = np.max(ratios) - np.min(ratios)\n",
        "\n",
        "print(ratio_range)\n",
        "\n",
        "#standard_deviation = np.std(fractions)\n",
        "#print(standard_deviation)"
      ],
      "execution_count": 15,
      "outputs": [
        {
          "output_type": "stream",
          "text": [
            "0.6331097230267027\n"
          ],
          "name": "stdout"
        }
      ]
    },
    {
      "cell_type": "markdown",
      "metadata": {
        "id": "i1JM6lvCfH-f",
        "colab_type": "text"
      },
      "source": [
        "For each provider where the relevant columns are not suppressed, work out the fraction of claims for beneficiaries age 65 and older, as well as the fraction of claims for beneficiaries with a low-income subsidy. What is the Pearson correlation coefficient between these values? "
      ]
    },
    {
      "cell_type": "code",
      "metadata": {
        "id": "9BWC-yQnfOjb",
        "colab_type": "code",
        "outputId": "eec9d21b-142e-449d-a8f2-68610f708b8e",
        "colab": {
          "base_uri": "https://localhost:8080/",
          "height": 34
        }
      },
      "source": [
        "bene_count_65 = extract(23, data_list)\n",
        "bene_count_LI = extract(45, data_list)\n",
        "\n",
        "counted_bene_count_65 = []\n",
        "counted_bene_count_LI = []\n",
        "\n",
        "for item in bene_count_65:\n",
        "    entry = float(item)\n",
        "    if math.isnan(entry) == False:\n",
        "        counted_bene_count_65.append(entry)\n",
        "sum_65 = sum(counted_bene_count_65)\n",
        "mean_65 = np.mean(counted_bene_count_65)\n",
        "\n",
        "for item in bene_count_LI:\n",
        "    entry = float(item)\n",
        "    if math.isnan(entry) == False:\n",
        "        counted_bene_count_LI.append(entry)\n",
        "sum_LI = sum(counted_bene_count_LI)\n",
        "mean_LI = np.mean(counted_bene_count_LI)\n",
        "\n",
        "new_bene_count_65 = []\n",
        "new_bene_count_LI = []\n",
        "\n",
        "for item in bene_count_65:\n",
        "    entry = float(item)\n",
        "    if math.isnan(entry) == False:\n",
        "        new_bene_count_65.append(entry)\n",
        "    else:\n",
        "        new_bene_count_65.append(mean_65)\n",
        "\n",
        "for item in bene_count_LI:\n",
        "    entry = float(item)\n",
        "    if math.isnan(entry) == False:\n",
        "        new_bene_count_LI.append(entry)\n",
        "    else:\n",
        "        new_bene_count_LI.append(mean_LI)\n",
        "    \n",
        "frac_65 = (1./sum(new_bene_count_65)) * np.array(new_bene_count_65)\n",
        "frac_LI = (1./sum(new_bene_count_LI)) * np.array((new_bene_count_LI))\n",
        "\n",
        "#print(len(frac_65), len(frac_LI))\n",
        "#print(frac_65[:20])\n",
        "#print(frac_LI[:20])\n",
        "\n",
        "pearson_corr = scipy.stats.pearsonr(frac_65, frac_LI) \n",
        "\n",
        "print(pearson_corr)\n"
      ],
      "execution_count": 16,
      "outputs": [
        {
          "output_type": "stream",
          "text": [
            "(0.7968910027092642, 0.0)\n"
          ],
          "name": "stdout"
        }
      ]
    },
    {
      "cell_type": "markdown",
      "metadata": {
        "id": "tHBxmfQ-VDKa",
        "colab_type": "text"
      },
      "source": [
        "For each provider for whom the information is not suppressed, figure out the average cost per day of prescriptions in both 2016 and 2017. Use this to estimate the inflation rate for daily prescription costs per provider. What is the average inflation rate across all providers? "
      ]
    },
    {
      "cell_type": "code",
      "metadata": {
        "id": "EnwcsvKjVIMB",
        "colab_type": "code",
        "colab": {}
      },
      "source": [
        "df_16 = pd.read_csv(\"/content/drive/My Drive/Colab Notebooks/PartD_Prescriber_PUF_NPI_16.txt\", sep='\\t')\n",
        "data_list_16 = df_16.values.tolist()"
      ],
      "execution_count": 0,
      "outputs": []
    },
    {
      "cell_type": "code",
      "metadata": {
        "id": "6jBCzHwzeQ5p",
        "colab_type": "code",
        "outputId": "8daf354a-74dc-4692-cd0e-40c6dfc681ca",
        "colab": {
          "base_uri": "https://localhost:8080/",
          "height": 34
        }
      },
      "source": [
        "cost_per_day_17 = []\n",
        "for row in data_list:\n",
        "    total_day = row[20]\n",
        "    total_cost = row[19]\n",
        "    cost_per_day_17.append(total_cost/total_day)\n",
        "mean_cost_per_day_17 = np.mean(cost_per_day_17)\n",
        "print(mean_cost_per_day_17)"
      ],
      "execution_count": 18,
      "outputs": [
        {
          "output_type": "stream",
          "text": [
            "4.200463873282938\n"
          ],
          "name": "stdout"
        }
      ]
    },
    {
      "cell_type": "code",
      "metadata": {
        "id": "_zXV8SBqgN8F",
        "colab_type": "code",
        "outputId": "6e8b04db-e347-4ffa-8e83-45d2d91a2542",
        "colab": {
          "base_uri": "https://localhost:8080/",
          "height": 34
        }
      },
      "source": [
        "cost_per_day_16 = []\n",
        "for row in data_list_16:\n",
        "    total_day = row[20]\n",
        "    total_cost = row[19]\n",
        "    cost_per_day_16.append(total_cost/total_day)\n",
        "mean_cost_per_day_16 = np.mean(cost_per_day_16)\n",
        "print(mean_cost_per_day_16)"
      ],
      "execution_count": 19,
      "outputs": [
        {
          "output_type": "stream",
          "text": [
            "4.160214951442098\n"
          ],
          "name": "stdout"
        }
      ]
    },
    {
      "cell_type": "code",
      "metadata": {
        "id": "hi3IpO1-gq_w",
        "colab_type": "code",
        "outputId": "b33dec3e-0df2-41df-f3f1-63ff16685906",
        "colab": {
          "base_uri": "https://localhost:8080/",
          "height": 34
        }
      },
      "source": [
        "inflation_rate = 100*(mean_cost_per_day_17 - mean_cost_per_day_16)/mean_cost_per_day_16\n",
        "\n",
        "print(\"Average inflation rate across all providers is: %.2f\" %(inflation_rate))"
      ],
      "execution_count": 20,
      "outputs": [
        {
          "output_type": "stream",
          "text": [
            "Average inflation rate across all providers is: 0.97\n"
          ],
          "name": "stdout"
        }
      ]
    },
    {
      "cell_type": "markdown",
      "metadata": {
        "id": "_M9s_FkolQqV",
        "colab_type": "text"
      },
      "source": [
        "Consider all providers with a defined specialty in both years. Find the fraction of providers who left each specialty between 2016 and 2017. What is the largest such fraction, when considering specialties with at least 1000 proviers in 2016? Note that some specialties have a fraction of 1 due to specialty name changes between 2016 and 2017; disregard these specialties in calculating your answer. "
      ]
    },
    {
      "cell_type": "code",
      "metadata": {
        "id": "yyKVLzmTlfog",
        "colab_type": "code",
        "colab": {}
      },
      "source": [
        "specialty_numbers_16 = {}\n",
        "\n",
        "for row in data_list_16:\n",
        "    specialty = row[14]\n",
        "    if specialty in specialty_numbers_16:\n",
        "        specialty_numbers_16[specialty] += 1\n",
        "    else:\n",
        "        specialty_numbers_16[specialty] = 1\n",
        "\n",
        "#print(specialty_numbers_16)"
      ],
      "execution_count": 0,
      "outputs": []
    },
    {
      "cell_type": "code",
      "metadata": {
        "id": "SuJ7vI-_jAhh",
        "colab_type": "code",
        "colab": {}
      },
      "source": [
        "specialty_numbers_17 = {}\n",
        "\n",
        "for row in data_list:\n",
        "    specialty = row[14]\n",
        "    if specialty in specialty_numbers_17:\n",
        "        specialty_numbers_17[specialty] += 1\n",
        "    else:\n",
        "        specialty_numbers_17[specialty] = 1\n",
        "\n",
        "#print(specialty_numbers_17)"
      ],
      "execution_count": 0,
      "outputs": []
    },
    {
      "cell_type": "code",
      "metadata": {
        "id": "ojenYdydl96L",
        "colab_type": "code",
        "outputId": "d6b64bf1-0074-4a58-b97b-6573d161dbac",
        "colab": {
          "base_uri": "https://localhost:8080/",
          "height": 34
        }
      },
      "source": [
        "specialty_changes = {}\n",
        "specialty_changes_list = []\n",
        "specialty_changes_frac_list = []\n",
        "for specialty in specialty_numbers_16:\n",
        "    if specialty_numbers_16[specialty] >= 1000:\n",
        "        if specialty in specialty_numbers_17:\n",
        "            specialty_changes[specialty] = specialty_numbers_17[specialty]-specialty_numbers_16[specialty]\n",
        "            specialty_changes_list.append(np.abs(specialty_changes[specialty]))\n",
        "            specialty_changes_frac_list.append(np.abs(specialty_changes[specialty])/specialty_numbers_16[specialty])\n",
        "        else:\n",
        "            specialty_changes[specialty] = specialty_numbers_16[specialty]\n",
        "            specialty_changes_list.append(np.abs(specialty_changes[specialty]))\n",
        "            specialty_changes_frac_list.append(np.abs(specialty_changes[specialty])/specialty_numbers_16[specialty])\n",
        "\n",
        "mod_specialty_changes_frac_list = [i for i in specialty_changes_frac_list if i!=1.0]\n",
        "#print(mod_specialty_changes_frac_list)\n",
        "largest_frac = np.max(mod_specialty_changes_frac_list)\n",
        "print (\"The largest fractional change is %0.3f\" %(largest_frac))\n",
        "#print(specialty_changes)\n",
        "#print(specialty_changes_list)\n",
        "#print(specialty_changes_frac_list)\n"
      ],
      "execution_count": 23,
      "outputs": [
        {
          "output_type": "stream",
          "text": [
            "The largest fractional change is 0.195\n"
          ],
          "name": "stdout"
        }
      ]
    },
    {
      "cell_type": "code",
      "metadata": {
        "id": "OSfJe4lPevvV",
        "colab_type": "code",
        "colab": {}
      },
      "source": [
        "if state in state_collate:\n",
        "        #state_collate[state]=[]\n",
        "        if math.isnan(row[53]) == False:\n",
        "            state_collate[state][0] += row[53]\n",
        "        if math.isnan(row[62]) == False : \n",
        "            state_collate[state][1] += row[62]"
      ],
      "execution_count": 0,
      "outputs": []
    },
    {
      "cell_type": "markdown",
      "metadata": {
        "id": "DGXBqxvS0QzJ",
        "colab_type": "text"
      },
      "source": [
        "# Number 3"
      ]
    },
    {
      "cell_type": "code",
      "metadata": {
        "id": "MsRcfoNq1amh",
        "colab_type": "code",
        "colab": {}
      },
      "source": [
        "def gen_samples(N):\n",
        "  \n",
        "  data = np.random.choice(np.arange(1, N+1), size = N, replace = False)\n",
        "  samples = []\n",
        "  for idx in range(N):\n",
        "    if idx == 0:\n",
        "      samples.append(data[idx])\n",
        "    else:\n",
        "      samples.append(abs(data[idx] - data[idx -1]))\n",
        "\n",
        "  #print(data)\n",
        "  #print(samples) \n",
        "  return samples"
      ],
      "execution_count": 0,
      "outputs": []
    },
    {
      "cell_type": "code",
      "metadata": {
        "id": "Kr5PHMnI7zjH",
        "colab_type": "code",
        "colab": {}
      },
      "source": [
        "def gen_samples_v2(N, num_of_samples):\n",
        "\n",
        "  samples = []\n",
        "  for i in range(num_of_samples):\n",
        "    samples.append(sum(gen_samples(N)))\n",
        "  return np.array(samples)"
      ],
      "execution_count": 0,
      "outputs": []
    },
    {
      "cell_type": "markdown",
      "metadata": {
        "id": "K6_zd6RpZOq6",
        "colab_type": "text"
      },
      "source": [
        "For  N = 20"
      ]
    },
    {
      "cell_type": "code",
      "metadata": {
        "id": "PoflCgPQ9DZz",
        "colab_type": "code",
        "outputId": "f8cb113b-7abc-4cff-846c-702dbf5cfcb7",
        "colab": {
          "base_uri": "https://localhost:8080/",
          "height": 68
        }
      },
      "source": [
        "samples_ = gen_samples_v2(N = 20, num_of_samples = 1000000)\n",
        "print(\"Mean is %.4f\" %(np.mean(samples_)))\n",
        "print(\"Standard Deviation is %.4f\" %(np.std(samples_)))\n",
        "print(\"Probability that total payment is greater than or eqaul to 160  is %.5f\" %(np.mean(samples_ >= 160)))"
      ],
      "execution_count": 27,
      "outputs": [
        {
          "output_type": "stream",
          "text": [
            "Mean is 143.4805\n",
            "Standard Deviation is 18.4475\n",
            "Probability that total payment is greater than or eqaul to 160  is 0.19744\n"
          ],
          "name": "stdout"
        }
      ]
    },
    {
      "cell_type": "code",
      "metadata": {
        "id": "-i4OU0Jj90vg",
        "colab_type": "code",
        "outputId": "941b0b13-2aa9-48ac-861b-3b019e1ef2f1",
        "colab": {
          "base_uri": "https://localhost:8080/",
          "height": 34
        }
      },
      "source": [
        "np.mean(samples_ >= 160)"
      ],
      "execution_count": 28,
      "outputs": [
        {
          "output_type": "execute_result",
          "data": {
            "text/plain": [
              "0.197438"
            ]
          },
          "metadata": {
            "tags": []
          },
          "execution_count": 28
        }
      ]
    },
    {
      "cell_type": "markdown",
      "metadata": {
        "id": "CxkpUg6MZp3c",
        "colab_type": "text"
      },
      "source": [
        "For N = 10"
      ]
    },
    {
      "cell_type": "code",
      "metadata": {
        "id": "0EuOFJajZsfU",
        "colab_type": "code",
        "outputId": "d09a9d76-3b4c-461c-8ec1-8eb7266d4076",
        "colab": {
          "base_uri": "https://localhost:8080/",
          "height": 68
        }
      },
      "source": [
        "samples_10 = gen_samples_v2(N = 10, num_of_samples = 1000000)\n",
        "print(\"Mean is %.4f\" %(np.mean(samples_10)))\n",
        "print(\"Standard Deviation is %.4f\" %(np.std(samples_10)))\n",
        "print(\"Probability that total payment is greater than or eqaul to 45 is %.5f\" %(np.mean(samples_10 >= 45)))"
      ],
      "execution_count": 29,
      "outputs": [
        {
          "output_type": "stream",
          "text": [
            "Mean is 38.4999\n",
            "Standard Deviation is 6.3665\n",
            "Probability that total payment is greater than or eqaul to 45 is 0.18226\n"
          ],
          "name": "stdout"
        }
      ]
    }
  ]
}