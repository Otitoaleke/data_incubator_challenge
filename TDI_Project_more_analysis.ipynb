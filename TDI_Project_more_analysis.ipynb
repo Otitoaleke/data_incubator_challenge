{
  "nbformat": 4,
  "nbformat_minor": 0,
  "metadata": {
    "colab": {
      "name": "TDI_Project more analysis.ipynb",
      "provenance": [],
      "authorship_tag": "ABX9TyO4GVvtgXzUZRTJkYcseEYd",
      "include_colab_link": true
    },
    "kernelspec": {
      "name": "python3",
      "display_name": "Python 3"
    }
  },
  "cells": [
    {
      "cell_type": "markdown",
      "metadata": {
        "id": "view-in-github",
        "colab_type": "text"
      },
      "source": [
        "<a href=\"https://colab.research.google.com/github/Otitoaleke/data_incubator_challenge/blob/master/TDI_Project_more_analysis.ipynb\" target=\"_parent\"><img src=\"https://colab.research.google.com/assets/colab-badge.svg\" alt=\"Open In Colab\"/></a>"
      ]
    },
    {
      "cell_type": "code",
      "metadata": {
        "id": "kkpw5kAAKSCe",
        "colab_type": "code",
        "colab": {}
      },
      "source": [
        "import os\n",
        "import numpy as np\n",
        "import pandas as pd\n",
        "import math\n",
        "import scipy.stats"
      ],
      "execution_count": 0,
      "outputs": []
    },
    {
      "cell_type": "code",
      "metadata": {
        "id": "6SVoe_NLKUxU",
        "colab_type": "code",
        "colab": {
          "base_uri": "https://localhost:8080/",
          "height": 122
        },
        "outputId": "528fefd4-28c5-421e-c244-a7c8be7e62b3"
      },
      "source": [
        "from google.colab import drive\n",
        "drive.mount('/content/drive')"
      ],
      "execution_count": 2,
      "outputs": [
        {
          "output_type": "stream",
          "text": [
            "Go to this URL in a browser: https://accounts.google.com/o/oauth2/auth?client_id=947318989803-6bn6qk8qdgf4n4g3pfee6491hc0brc4i.apps.googleusercontent.com&redirect_uri=urn%3aietf%3awg%3aoauth%3a2.0%3aoob&response_type=code&scope=email%20https%3a%2f%2fwww.googleapis.com%2fauth%2fdocs.test%20https%3a%2f%2fwww.googleapis.com%2fauth%2fdrive%20https%3a%2f%2fwww.googleapis.com%2fauth%2fdrive.photos.readonly%20https%3a%2f%2fwww.googleapis.com%2fauth%2fpeopleapi.readonly\n",
            "\n",
            "Enter your authorization code:\n",
            "··········\n",
            "Mounted at /content/drive\n"
          ],
          "name": "stdout"
        }
      ]
    },
    {
      "cell_type": "code",
      "metadata": {
        "id": "FLQOF9sJKZXB",
        "colab_type": "code",
        "colab": {
          "base_uri": "https://localhost:8080/",
          "height": 51
        },
        "outputId": "465f1fba-3941-44a7-9b3a-33e1bc4a8a99"
      },
      "source": [
        "df = pd.read_csv(\"/content/drive/My Drive/Colab Notebooks/humansequences.csv\",  encoding = 'unicode_escape')\n",
        "data_list = df.values.tolist()\n"
      ],
      "execution_count": 3,
      "outputs": [
        {
          "output_type": "stream",
          "text": [
            "/usr/local/lib/python3.6/dist-packages/IPython/core/interactiveshell.py:2718: DtypeWarning: Columns (9,11,15,16) have mixed types.Specify dtype option on import or set low_memory=False.\n",
            "  interactivity=interactivity, compiler=compiler, result=result)\n"
          ],
          "name": "stderr"
        }
      ]
    },
    {
      "cell_type": "code",
      "metadata": {
        "id": "Ap3RcWycKokc",
        "colab_type": "code",
        "colab": {}
      },
      "source": [
        "def extract(index, data_list):\n",
        "    column = []    \n",
        "    for row in data_list[0:]:\n",
        "        #print(row)\n",
        "        value = row[index]\n",
        "        column.append(value)    \n",
        "    return column"
      ],
      "execution_count": 0,
      "outputs": []
    },
    {
      "cell_type": "code",
      "metadata": {
        "id": "wd1DDNmRKyFG",
        "colab_type": "code",
        "colab": {
          "base_uri": "https://localhost:8080/",
          "height": 54
        },
        "outputId": "3a5e8906-7bcc-4390-db51-0ea006b043cf"
      },
      "source": [
        "corona_list = []\n",
        "for row in data_list:\n",
        "    if row[4] == 'Coronaviridae':\n",
        "        corona_list.append(row)\n",
        "\n",
        "print(corona_list[:5])"
      ],
      "execution_count": 5,
      "outputs": [
        {
          "output_type": "stream",
          "text": [
            "[['NC_045512', '2020-01-13T00:00:00Z', 'Severe acute respiratory syndrome-related coronavirus', 'Betacoronavirus', 'Coronaviridae', 29903, 'RefSeq', 'complete', nan, nan, 'Baranov,P.V., Henderson,C.M., Anderson,C.B., Gesteland,R.F., Atkins,J.F., Howard,M.T., Robertson,M.P., Igel,H., Baertsch,R., Haussler,D., Ares,M. Jr., Scott,W.G., Williams,G.D., Chang,R.Y., Brian,D.A., Wu,F., Zhao,S., Yu,B., Chen,Y.-M., Wang,W., Hu,Y., Song,Z.-G., Tao,Z.-W., Tian,J.-H., Pei,Y.-Y., Yuan,M.L., Zhang,Y.-L., Dai,F.-H., Liu,Y., Wang,Q.-M., Zheng,J.-J., Xu,L., Holmes,E.C., Zhang,Y.-Z.', '15680415, 15630477, 10482585', 'China', 'Homo sapiens', nan, '2019-12', nan, 'Severe acute respiratory syndrome coronavirus 2 isolate Wuhan-Hu-1, complete genome'], ['NC_038294', '2018-08-24T00:00:00Z', 'Middle East respiratory syndrome-related coronavirus', 'Betacoronavirus', 'Coronaviridae', 30111, 'RefSeq', 'complete', nan, nan, 'Galiano,M., Myers,R., Bermingham,A., Gopal,R., Zambon,M.', nan, 'United Kingdom', 'Homo sapiens', nan, '2012-09-11', nan, 'Betacoronavirus England 1, complete genome'], ['NC_019843', '2012-12-13T00:00:00Z', 'Middle East respiratory syndrome-related coronavirus', 'Betacoronavirus', 'Coronaviridae', 30119, 'RefSeq', 'complete', nan, nan, 'van Boheemen,S., de Graaf,M., Lauber,C., Bestebroer,T.M., Raj,V.S., Zaki,A.M., Osterhaus,A.D., Haagmans,B.L., Gorbalenya,A.E., Snijder,E.J., Fouchier,R.A., Victor,S.R., Osterhaus,A.D.M.E., Fouchier,R.A.M.', '23170002', nan, 'Homo sapiens', nan, '2012-06-13', nan, 'Middle East respiratory syndrome coronavirus, complete genome'], ['NC_006577', '2004-12-28T00:00:00Z', 'Human coronavirus HKU1', 'Betacoronavirus', 'Coronaviridae', 29926, 'RefSeq', 'complete', nan, nan, 'Woo,P.C., Lau,S.K., Chu,C.M., Chan,K.H., Tsoi,H.W., Huang,Y., Wong,B.H., Poon,R.W., Cai,J.J., Luk,W.K., Poon,L.L., Wong,S.S., Guan,Y., Peiris,J.S., Yuen,K.Y., Woo,P.C.Y., Lau,S.K.P., Wong,B.H.L., Wong,S.S.Y., Peiris,J.S.M.', '15613317', nan, 'Homo sapiens', nan, nan, nan, 'Human coronavirus HKU1, complete genome'], ['MT365028', '2020-05-05T00:00:00Z', 'Severe acute respiratory syndrome-related coronavirus', 'Betacoronavirus', 'Coronaviridae', 29891, 'GenBank', 'complete', nan, nan, 'To,K.K.W., Yuen,K.-Y.', nan, 'Hong Kong', 'Homo sapiens', nan, '2020-01-24', nan, 'Severe acute respiratory syndrome coronavirus 2 isolate SARS-CoV-2/human/HKG/HKU-905a/2020, complete genome']]\n"
          ],
          "name": "stdout"
        }
      ]
    },
    {
      "cell_type": "code",
      "metadata": {
        "id": "HJFlyOMeLt9_",
        "colab_type": "code",
        "colab": {
          "base_uri": "https://localhost:8080/",
          "height": 34
        },
        "outputId": "bc26764e-40eb-49e0-d467-68a219fe1c55"
      },
      "source": [
        "print(len(corona_list))"
      ],
      "execution_count": 6,
      "outputs": [
        {
          "output_type": "stream",
          "text": [
            "5469\n"
          ],
          "name": "stdout"
        }
      ]
    },
    {
      "cell_type": "code",
      "metadata": {
        "id": "BbmVoB5QMEWB",
        "colab_type": "code",
        "colab": {
          "base_uri": "https://localhost:8080/",
          "height": 34
        },
        "outputId": "83d237ee-27b6-4317-c198-a4c4ebc60576"
      },
      "source": [
        "print (len(data_list))"
      ],
      "execution_count": 7,
      "outputs": [
        {
          "output_type": "stream",
          "text": [
            "1983799\n"
          ],
          "name": "stdout"
        }
      ]
    },
    {
      "cell_type": "code",
      "metadata": {
        "id": "LMCg2ZK8MK6B",
        "colab_type": "code",
        "colab": {
          "base_uri": "https://localhost:8080/",
          "height": 54
        },
        "outputId": "aa498dac-93bb-45f6-c38c-3aa062a7d139"
      },
      "source": [
        "cov2_list=[]\n",
        "for row in corona_list:\n",
        "    if 'CoV' in row[17]:\n",
        "        cov2_list.append(row)\n",
        "        \n",
        "print(cov2_list[:5])\n"
      ],
      "execution_count": 8,
      "outputs": [
        {
          "output_type": "stream",
          "text": [
            "[['MT365028', '2020-05-05T00:00:00Z', 'Severe acute respiratory syndrome-related coronavirus', 'Betacoronavirus', 'Coronaviridae', 29891, 'GenBank', 'complete', nan, nan, 'To,K.K.W., Yuen,K.-Y.', nan, 'Hong Kong', 'Homo sapiens', nan, '2020-01-24', nan, 'Severe acute respiratory syndrome coronavirus 2 isolate SARS-CoV-2/human/HKG/HKU-905a/2020, complete genome'], ['MT365029', '2020-05-05T00:00:00Z', 'Severe acute respiratory syndrome-related coronavirus', 'Betacoronavirus', 'Coronaviridae', 29891, 'GenBank', 'complete', nan, nan, 'To,K.K.W., Yuen,K.-Y.', nan, 'Hong Kong', 'Homo sapiens', nan, '2020-01-30', nan, 'Severe acute respiratory syndrome coronavirus 2 isolate SARS-CoV-2/human/HKG/HKU-911a/2020, complete genome'], ['MT365030', '2020-05-05T00:00:00Z', 'Severe acute respiratory syndrome-related coronavirus', 'Betacoronavirus', 'Coronaviridae', 29891, 'GenBank', 'complete', nan, nan, 'To,K.K.W., Yuen,K.-Y.', nan, 'Hong Kong', 'Homo sapiens', nan, '2020-01-31', nan, 'Severe acute respiratory syndrome coronavirus 2 isolate SARS-CoV-2/human/HKG/HKU-913a/2020, complete genome'], ['MT365031', '2020-05-05T00:00:00Z', 'Severe acute respiratory syndrome-related coronavirus', 'Betacoronavirus', 'Coronaviridae', 29891, 'GenBank', 'complete', nan, nan, 'To,K.K.W., Yuen,K.-Y.', nan, 'Hong Kong', 'Homo sapiens', nan, '2020-02-02', nan, 'Severe acute respiratory syndrome coronavirus 2 isolate SARS-CoV-2/human/HKG/HKU-915a/2020, complete genome'], ['MT365032', '2020-05-05T00:00:00Z', 'Severe acute respiratory syndrome-related coronavirus', 'Betacoronavirus', 'Coronaviridae', 29887, 'GenBank', 'complete', nan, nan, 'To,K.K.W., Yuen,K.-Y.', nan, 'Hong Kong', 'Homo sapiens', 'saliva, oronasopharynx', '2020-01-30', nan, 'Severe acute respiratory syndrome coronavirus 2 isolate SARS-CoV-2/human/HKG/HKU-904a/2020, complete genome']]\n"
          ],
          "name": "stdout"
        }
      ]
    },
    {
      "cell_type": "code",
      "metadata": {
        "id": "Y-2QrNDaP0b2",
        "colab_type": "code",
        "colab": {
          "base_uri": "https://localhost:8080/",
          "height": 34
        },
        "outputId": "1700133b-f315-41fc-d062-b87cbf369f01"
      },
      "source": [
        "print(len(cov2_list))"
      ],
      "execution_count": 9,
      "outputs": [
        {
          "output_type": "stream",
          "text": [
            "2503\n"
          ],
          "name": "stdout"
        }
      ]
    },
    {
      "cell_type": "code",
      "metadata": {
        "id": "bNDlX7JjQAsu",
        "colab_type": "code",
        "colab": {
          "base_uri": "https://localhost:8080/",
          "height": 71
        },
        "outputId": "325e9e46-d369-4ce4-a060-04fa9f69e57c"
      },
      "source": [
        "Length_CoV = extract(5, cov2_list)\n",
        "CoV_intervals = np.max(Length_CoV) - np.min(Length_CoV)\n",
        "print(CoV_intervals)\n",
        "print(Length_CoV)"
      ],
      "execution_count": 14,
      "outputs": [
        {
          "output_type": "stream",
          "text": [
            "30754\n",
            "[29891, 29891, 29891, 29891, 29887, 29900, 29903, 29903, 29903, 323, 29782, 29782, 29782, 29782, 29782, 29782, 29782, 29782, 29782, 29880, 29870, 29903, 29903, 29764, 29764, 29764, 29764, 29899, 29899, 29892, 29868, 29893, 29899, 29838, 29860, 29858, 29897, 29851, 29903, 29854, 29868, 29868, 29758, 29743, 29758, 29570, 29743, 29743, 29760, 29570, 29743, 29743, 29706, 29743, 29743, 29675, 29462, 29823, 29851, 29834, 29868, 29835, 29704, 29818, 29648, 29885, 29731, 29851, 29004, 29722, 29795, 29340, 29523, 29692, 29666, 29720, 29715, 29617, 29797, 29818, 29264, 29846, 29861, 29828, 29827, 29830, 29849, 29828, 29841, 29867, 29810, 29812, 29854, 29818, 29813, 29840, 29812, 29804, 29812, 29852, 29856, 29805, 29800, 29791, 29804, 29799, 29804, 29790, 29815, 29785, 29816, 29776, 29797, 29815, 29813, 29804, 29805, 29772, 29797, 29766, 29790, 29794, 29800, 29817, 29800, 29841, 29856, 29859, 29844, 29858, 29815, 29842, 29857, 29825, 29782, 29792, 29772, 29725, 29824, 29822, 29815, 29807, 29813, 29850, 29782, 29825, 29824, 29814, 29813, 29782, 29815, 29782, 29782, 29782, 29782, 29812, 29810, 29810, 29782, 29812, 29782, 29782, 29782, 29804, 29794, 29782, 29810, 29804, 29782, 29806, 29798, 29802, 29811, 29811, 29792, 29782, 29782, 29782, 29812, 29782, 29719, 29902, 29891, 29879, 29865, 29791, 29594, 29573, 29842, 29840, 29879, 29830, 29842, 29842, 29833, 29856, 29706, 29885, 29864, 29882, 29833, 29813, 29875, 29839, 29869, 29853, 29871, 29834, 29840, 29833, 29856, 29834, 29832, 29896, 29833, 29616, 29834, 29826, 29813, 29810, 29810, 29788, 29689, 29835, 29828, 29812, 29899, 29786, 29847, 29834, 29833, 29841, 29861, 29903, 29866, 29879, 29834, 29772, 29886, 29869, 29902, 29890, 29830, 29846, 29897, 29874, 29827, 29881, 29882, 29863, 29887, 29893, 29895, 29896, 29892, 29897, 29878, 29902, 29910, 29872, 29921, 29915, 29913, 29916, 29900, 29875, 29871, 29914, 29831, 29907, 29879, 29902, 29882, 29839, 29878, 29775, 29883, 29811, 29703, 29884, 29890, 29817, 29920, 29834, 29863, 29833, 29878, 29845, 29825, 29834, 29837, 29902, 29840, 29901, 29903, 29892, 29891, 3822, 3822, 3822, 3822, 3822, 3822, 3822, 3822, 3822, 3822, 3822, 3822, 366, 366, 366, 366, 366, 366, 366, 366, 366, 366, 366, 366, 366, 366, 29866, 29867, 29856, 29868, 29861, 29897, 29899, 29865, 29887, 29903, 29901, 29895, 29903, 29900, 29840, 29865, 29891, 29893, 29893, 29867, 29863, 29870, 29872, 29782, 29841, 29840, 29838, 29836, 29839, 29839, 29839, 1321, 1321, 29882, 29882, 29882, 29882, 29882, 29882, 29882, 29903, 29903, 29903, 29903, 29902, 29902, 29902, 29901, 29901, 29900, 29900, 29899, 29899, 29899, 29897, 29895, 29894, 29892, 29892, 29892, 29893, 29892, 29891, 29891, 29891, 29890, 29887, 29886, 29885, 29881, 29876, 29874, 29874, 29872, 29871, 29870, 29869, 29868, 29867, 29881, 29864, 29863, 29862, 29862, 29861, 29858, 29858, 29857, 29855, 29852, 29851, 29851, 29847, 29842, 29838, 29837, 29838, 29840, 29836, 29836, 29836, 29861, 29836, 29836, 29835, 29853, 29836, 29836, 29838, 29812, 29843, 29835, 29892, 29836, 29836, 29831, 29813, 29689, 29831, 29680, 29824, 29831, 29837, 29803, 29888, 29895, 29821, 29832, 29813, 29772, 29860, 29736, 29822, 29822, 29820, 29796, 29864, 29809, 29813, 29825, 29499, 29748, 29844, 29819, 29808, 29844, 29836, 29790, 29788, 29705, 29911, 29790, 29785, 29788, 29776, 29885, 29788, 29756, 29854, 29668, 29777, 29848, 29827, 29873, 29841, 29865, 29762, 29817, 29816, 29793, 29862, 29833, 29673, 29841, 29725, 29841, 29833, 29744, 29832, 29841, 29790, 29874, 29862, 29856, 29871, 29878, 29907, 29828, 29790, 29869, 29821, 29812, 29879, 29879, 29752, 29705, 29869, 29785, 29867, 29866, 29543, 29822, 29679, 29869, 29828, 29829, 29895, 29898, 29857, 29858, 29903, 29910, 29839, 29706, 29829, 29852, 29897, 29886, 29871, 29904, 29852, 29877, 29861, 29698, 29830, 29765, 29882, 29887, 29882, 29882, 29881, 29615, 29862, 29629, 29594, 29755, 29777, 29841, 29860, 29521, 29901, 29886, 29903, 29900, 29899, 29902, 29901, 29898, 29900, 29903, 29901, 29899, 29901, 29898, 29901, 29734, 29733, 29883, 29890, 29896, 29839, 29867, 29706, 29852, 29853, 29868, 29726, 29872, 29875, 29856, 29813, 29732, 29871, 29892, 29898, 29871, 29872, 29839, 29839, 29867, 29887, 29714, 29865, 29813, 29788, 29873, 29891, 29848, 29880, 29643, 29876, 29485, 29848, 29873, 29729, 29875, 29646, 29871, 29653, 29862, 29601, 29890, 29499, 29784, 29765, 29871, 29871, 29872, 29899, 29880, 29871, 29900, 29882, 29903, 29716, 29717, 29724, 29726, 29724, 29724, 29724, 29724, 29724, 29719, 29724, 29716, 29729, 29726, 29724, 29727, 29724, 29709, 29726, 29727, 29731, 29726, 29729, 29726, 29726, 29724, 29726, 29717, 29725, 29724, 29779, 29726, 29720, 29724, 29724, 29772, 29729, 29724, 29726, 29726, 29724, 29730, 29726, 29756, 29724, 29724, 29724, 29726, 29734, 29726, 29726, 29726, 29716, 29717, 29726, 29724, 29724, 29730, 29726, 29724, 29793, 29726, 29764, 29724, 29751, 29716, 29724, 29719, 29726, 29726, 29724, 29724, 29756, 29716, 29729, 29772, 29720, 29719, 29729, 29717, 29729, 29724, 29726, 29718, 29724, 29717, 29706, 29726, 29772, 29724, 29694, 29694, 29709, 29701, 29743, 29702, 29709, 29726, 29695, 29714, 29712, 29724, 29715, 29726, 29712, 29693, 29737, 29694, 29715, 29724, 29694, 29706, 29703, 29739, 29694, 29710, 29716, 29730, 29717, 29731, 29694, 29717, 29723, 29716, 29694, 29712, 29714, 29723, 29694, 29714, 29706, 29719, 29649, 29726, 29767, 29732, 29714, 29700, 29703, 29716, 29722, 29722, 29701, 29694, 29726, 29724, 29711, 29703, 29712, 29724, 29714, 29723, 29696, 29715, 29729, 29713, 29723, 29723, 29694, 29693, 29704, 29658, 29718, 29724, 29694, 29768, 29705, 29724, 29701, 29724, 29724, 29710, 29718, 29694, 29694, 29723, 29716, 29724, 29724, 29694, 29635, 29723, 29724, 29643, 29723, 29724, 29722, 29724, 29720, 29674, 29694, 29714, 29724, 29686, 29694, 29723, 29724, 29724, 29719, 29705, 29696, 29705, 29723, 29732, 29724, 29724, 29694, 29719, 29903, 29903, 29903, 29903, 29740, 29798, 29756, 29756, 29756, 29756, 29756, 29868, 29898, 29865, 29481, 29889, 29891, 29891, 29891, 29867, 29891, 29891, 29863, 29891, 29895, 29896, 29903, 29842, 29831, 29862, 29872, 29831, 29902, 29829, 29841, 29828, 29847, 29868, 29852, 29853, 29872, 29853, 29854, 29838, 29873, 29862, 29829, 29821, 29835, 29833, 29872, 29865, 29864, 29866, 29864, 29832, 29872, 29813, 29897, 29813, 29831, 29832, 29832, 29815, 29831, 29834, 29832, 29875, 29871, 29808, 29866, 29851, 29833, 29862, 29835, 29832, 29873, 29883, 29892, 29866, 29813, 29860, 29833, 29851, 29842, 29889, 29855, 29901, 29910, 29873, 29813, 29720, 29834, 29869, 29844, 29833, 29835, 29826, 29901, 29920, 29847, 29903, 29863, 29776, 29891, 29902, 29867, 29833, 29826, 29859, 29651, 29835, 29823, 29868, 29815, 29828, 29848, 29919, 29872, 29901, 29842, 29853, 29872, 29895, 29875, 29888, 29877, 29897, 29838, 29838, 29871, 29878, 3822, 29890, 29893, 29865, 29866, 29826, 29897, 29899, 29857, 29865, 29856, 29870, 29897, 29851, 29883, 29865, 29891, 29865, 29887, 29894, 29899, 29902, 29858, 29835, 29860, 29882, 29882, 29882, 29882, 29882, 29882, 29882, 29882, 29882, 29882, 29882, 29882, 29882, 29882, 29882, 29882, 29882, 29882, 29903, 1152, 29882, 29882, 29882, 29882, 29882, 29882, 29861, 29861, 29861, 29882, 29882, 29876, 29876, 29876, 29876, 29882, 29882, 29879, 29877, 29882, 29844, 29608, 29689, 29818, 29875, 29869, 29594, 29884, 29898, 29481, 29687, 29863, 29417, 29850, 29762, 29445, 29733, 29862, 29861, 29861, 29625, 29900, 29537, 29617, 29738, 29817, 29792, 29875, 29839, 29872, 29853, 29875, 29857, 29740, 29869, 29893, 29901, 29878, 29871, 29336, 29659, 29591, 29893, 29882, 29696, 29785, 29776, 29816, 29869, 29863, 29840, 29871, 29808, 29637, 29833, 29850, 29860, 29859, 29872, 29641, 29882, 29814, 29779, 29867, 29888, 29478, 29295, 29868, 29831, 29871, 29889, 29904, 29840, 29903, 29872, 29907, 29831, 29898, 29825, 29903, 29868, 29847, 29871, 29835, 29893, 29833, 29788, 29891, 29876, 29876, 29882, 29896, 29807, 29903, 29798, 29901, 29864, 29900, 29896, 29813, 29865, 29903, 29899, 29864, 29875, 29902, 29895, 29900, 29899, 29901, 29903, 29862, 29901, 29902, 29903, 29864, 29903, 29861, 29899, 29903, 29899, 29864, 29890, 29863, 29788, 29863, 29797, 29806, 29847, 29840, 29811, 29899, 29797, 29878, 29864, 29849, 29864, 29864, 29864, 29864, 29893, 29863, 29886, 29803, 29864, 29848, 29903, 491, 491, 344, 344, 344, 29882, 29882, 29882, 29882, 29882, 29882, 29882, 29882, 29882, 29882, 29882, 29882, 29882, 29882, 29882, 29882, 29882, 29882, 29882, 29882, 29882, 29882, 29882, 29882, 29882, 29882, 29882, 29882, 29882, 29882, 29882, 29882, 29882, 29882, 29882, 29882, 29882, 29882, 29882, 29882, 29882, 29882, 29882, 29882, 29882, 29882, 29882, 29882, 29882, 29882, 29882, 29882, 29882, 29882, 29882, 29882, 29882, 29882, 29882, 29882, 29882, 29882, 29882, 29882, 29882, 29882, 29882, 29882, 29882, 29882, 29882, 29882, 29882, 29882, 29882, 29882, 29882, 29882, 29882, 29882, 29858, 29685, 29707, 29482, 29863, 29823, 29863, 29853, 29775, 29854, 29534, 29793, 29778, 29747, 29422, 29440, 29792, 29820, 29774, 29867, 29549, 29746, 29600, 29777, 29627, 29871, 29833, 29451, 29853, 29892, 29763, 29714, 29860, 29865, 29424, 29830, 29643, 29548, 29869, 29480, 29872, 29662, 29892, 29870, 29870, 29864, 29882, 29834, 29846, 29781, 29428, 29839, 29836, 29839, 29628, 29838, 29804, 29379, 29836, 29833, 29683, 29827, 29795, 29856, 29853, 29872, 29851, 29794, 29710, 29890, 29833, 29749, 29880, 29876, 29859, 29867, 29861, 29873, 29754, 29652, 29868, 29808, 29842, 29885, 29643, 29598, 29649, 29773, 29777, 29814, 29858, 29474, 29520, 29865, 29890, 29871, 29854, 29848, 29643, 29616, 29744, 29765, 29828, 29856, 29861, 29837, 29895, 29790, 29381, 29888, 29832, 29864, 29794, 29695, 29862, 29766, 29647, 29868, 29551, 29335, 29617, 29787, 29301, 29538, 29777, 29817, 29725, 29876, 29744, 29758, 29874, 29863, 29734, 29871, 29532, 29737, 29836, 29765, 29589, 29861, 29639, 29870, 29730, 29759, 29897, 29772, 29830, 29710, 29878, 29854, 29574, 29786, 29564, 29301, 29770, 29903, 29737, 29841, 29641, 29689, 29755, 29733, 29823, 29599, 29919, 29776, 29882, 29913, 29832, 29832, 29903, 29875, 29884, 29903, 29858, 29785, 29865, 29867, 29867, 29893, 29866, 29864, 29887, 29900, 29898, 29851, 29865, 29902, 29886, 29866, 29866, 29900, 29891, 29866, 29859, 29897, 29901, 29865, 29867, 29901, 29896, 29899, 29864, 29859, 29897, 29900, 29903, 29882, 29822, 29789, 29788, 29757, 29765, 29767, 29789, 29783, 29782, 29792, 493, 29834, 29834, 29834, 64, 29834, 29882, 29882, 29882, 29882, 29882, 29882, 29882, 29882, 29882, 29882, 29882, 29882, 29882, 29882, 29882, 29882, 29882, 29882, 84, 29822, 29903, 29807, 29858, 29858, 29774, 29807, 29872, 29828, 29821, 29865, 29834, 29860, 29782, 29782, 29782, 29782, 29782, 29782, 29782, 29782, 29782, 29782, 29782, 29782, 29782, 29782, 29844, 29603, 29748, 29890, 29864, 29873, 29848, 29596, 29772, 29839, 29865, 29796, 29694, 29790, 29798, 29848, 29870, 29820, 29672, 29776, 29883, 29882, 29868, 29877, 29554, 29871, 29866, 29871, 29756, 29640, 29865, 29869, 29778, 29863, 29829, 29711, 29868, 29251, 29653, 29871, 29888, 29619, 29881, 29671, 29852, 29846, 29874, 29527, 29896, 29833, 29668, 29866, 29884, 29842, 29871, 29864, 29883, 29887, 29801, 29855, 29859, 29273, 29870, 29885, 29869, 29559, 29842, 29846, 29847, 29865, 29892, 29893, 29882, 29882, 29882, 29882, 29882, 29882, 29882, 29882, 29882, 29851, 29870, 29882, 29882, 29882, 29882, 29882, 29882, 29882, 29882, 29882, 29882, 29882, 29882, 29882, 29882, 29882, 29882, 29882, 29882, 29882, 29882, 29882, 29856, 29910, 29900, 29797, 29793, 29610, 29808, 29852, 29740, 29454, 29761, 29911, 29843, 29529, 29697, 29904, 29903, 29601, 29884, 29886, 29841, 29473, 29844, 29878, 29866, 29834, 29887, 29575, 29810, 29443, 29871, 29866, 29829, 29862, 29830, 29840, 29815, 29871, 29876, 29853, 29839, 29900, 29837, 29829, 29830, 29841, 29792, 29818, 29778, 29889, 29838, 29863, 29866, 29853, 29790, 29882, 29846, 29871, 29872, 29863, 29863, 29793, 29819, 29869, 29857, 29868, 29872, 29868, 29828, 29828, 29841, 29693, 29833, 29777, 29837, 29705, 29775, 29801, 29881, 29917, 29755, 29828, 29764, 29868, 29832, 29867, 29634, 29853, 29892, 29857, 29782, 29782, 29782, 29888, 29892, 29892, 29890, 29899, 29885, 29887, 29868, 29863, 29861, 29864, 29866, 29865, 29751, 29883, 29864, 29161, 29583, 29544, 29682, 29173, 29757, 29865, 29826, 29842, 29646, 29879, 29821, 29702, 29884, 29790, 29813, 29887, 29450, 29833, 29868, 29657, 29280, 29871, 29837, 29599, 29878, 29836, 29468, 29776, 29852, 29759, 29894, 29436, 29864, 29389, 29892, 29779, 29841, 29872, 29881, 29897, 29399, 29642, 29839, 29815, 29192, 29432, 29831, 29857, 29688, 29878, 29874, 29861, 29871, 29852, 29875, 29899, 29829, 29905, 29839, 29845, 29781, 29781, 29781, 29781, 29781, 29781, 29781, 29781, 29781, 29781, 29781, 29781, 29781, 29781, 29781, 29847, 29828, 29872, 29868, 29888, 29823, 29892, 29857, 29846, 29843, 29765, 29909, 29917, 29877, 29903, 29782, 29818, 29781, 29897, 29899, 29843, 29869, 29860, 29871, 29810, 29825, 29884, 29877, 29863, 29886, 29889, 29828, 29904, 29873, 29844, 29765, 29870, 29775, 29867, 29883, 29842, 29864, 29850, 29867, 29836, 338, 338, 157, 158, 29782, 29782, 29782, 29782, 29782, 29899, 29611, 29782, 29611, 440, 29862, 29829, 29891, 29890, 363, 363, 363, 363, 363, 363, 363, 406, 29882, 29880, 29882, 29882, 29882, 29882, 29882, 87, 399, 264, 29903, 29897, 29903, 29903, 29732, 29325, 322, 322, 29867, 29945, 29882, 29882, 29882, 29882, 29882, 29882, 29882, 29882, 29882, 29882, 29882, 29867, 29882, 29882, 29882, 29882, 29882, 29882, 483, 253, 29854, 29851, 29878, 322, 29903, 29903, 29903, 29903, 29876, 615, 1411, 1269, 459, 29902, 29902, 29891, 29882, 29923, 29871, 29882, 770, 569, 29882, 29882, 29882, 29886, 29860, 1260, 1260, 1260, 1260, 1260, 1260, 1260, 1260, 1260, 1260, 670, 810, 29811, 290, 290, 290, 29870, 29870, 357, 357, 357, 294, 294, 294, 294, 294, 294, 29882, 29858, 29903, 562, 562, 562, 562, 29879, 29882, 182, 29882, 29882, 29882, 29899, 29889, 29899, 29890, 29883, 29806, 29882, 29882, 322, 322, 29881, 29881, 29882, 29883, 29882, 29882, 29838, 287, 287, 107, 107, 107, 107, 29891, 287, 287, 287, 107, 107, 107, 29882, 5110, 4267, 4925, 2301, 2301, 2301, 2301, 2301, 2301, 2301, 2301, 2301, 2301, 2289, 2301, 2289, 2289, 2289, 2289, 2289, 2289, 2289, 2301, 2301, 2301, 2301, 2301, 2301, 2301, 2301, 2301, 2301, 2301, 2301, 2301, 2301, 2301, 2301, 2289, 2289, 2289, 2289, 2289, 2289, 2289, 2289, 2289, 2289, 2289, 2289, 2289, 2289, 2289, 2289, 2289, 2289, 2289, 2289, 2289, 2289, 2289, 2289, 2289, 2289, 2289, 2289, 2289, 2289, 2289, 2301, 2289, 2289, 2301, 2301, 2301, 2301, 2301, 2301, 2301, 2301, 2289, 2301, 2289, 2289, 2289, 2289, 2301, 2301, 2301, 2289, 2289, 2289, 2289, 2289, 2289, 2289, 2289, 2289, 2289, 2289, 2289, 2289, 2289, 2289, 2289, 2289, 2289, 2289, 2289, 2289, 2289, 2289, 2289, 2289, 2301, 2289, 2301, 2289, 2289, 2289, 2301, 2289, 2289, 2289, 2289, 2289, 2289, 2289, 2289, 2289, 2289, 2289, 2289, 2289, 2289, 2289, 2289, 2289, 2289, 2289, 2289, 2289, 2289, 2289, 2289, 2289, 2289, 2289, 2289, 2289, 2289, 2289, 2289, 2289, 2289, 2289, 2289, 2289, 2289, 2289, 2289, 2289, 2289, 2289, 2289, 2289, 2289, 2289, 2289, 2289, 2289, 2289, 2289, 2289, 2289, 2289, 2289, 2289, 2289, 2292, 2289, 2289, 2289, 2289, 2289, 2289, 2289, 2301, 2289, 2289, 2289, 2289, 2289, 2289, 2301, 2301, 2301, 2301, 2289, 2289, 27075, 27484, 30681, 27537, 30717, 30723, 30716, 27270, 30818, 30562, 30681, 4062, 4062, 4062, 30150, 30722, 30079, 30119, 30119, 30118, 30737, 30721, 30713, 30705, 2289, 2289, 2289, 2289, 2289, 2289, 2289, 2289, 2289, 2289, 2289, 2301, 2301, 2301, 2301, 2289, 2301, 2301, 2301, 2301, 2301, 2301, 2301, 2301, 2301, 2301, 29995, 30668, 30659, 27489, 27235, 30562, 27144, 30648, 27242, 30670, 30670, 30674, 30661, 27055, 30656, 27249, 30581, 30689, 30725, 27193, 26592, 27182, 27226, 27208, 27238, 27231, 27022, 30118, 30111, 30118, 30082, 30118, 30106, 30110, 30118, 4062, 4062, 4062, 4062, 4062, 3992, 30068, 30068, 30068, 30068, 30068, 30065, 30068, 30068, 30068, 30068, 30068, 30068, 30068, 30746, 816, 816, 816, 816, 816, 816, 816, 816, 816, 816, 816, 816, 816, 816, 816, 816, 816, 816, 816, 816, 816, 816, 816, 816, 615, 615, 615, 615, 615, 615, 615, 615, 615, 615, 615, 615, 615, 27553, 29809, 30108, 247, 247, 247, 247, 247, 247, 247, 208, 179, 208, 208, 208, 1347, 1347, 1347, 1347, 1347, 1347, 1347, 1347, 1347, 1347, 1347, 1347, 1347, 1347, 1347, 1347, 2783, 2783, 2783, 2783, 2783, 2783, 2783, 2783, 2783, 2783, 2783, 2783, 2783, 2783, 2783, 2783, 4062, 4071, 4086, 4086, 4071, 4092, 4086, 4071, 4089, 4089, 4089, 4077, 4089, 4077, 4077, 4077, 29851, 404, 404, 404, 404, 404, 403, 404, 404, 404, 404, 404, 404, 404, 404, 404, 404, 404, 404, 404, 1641, 1643, 1628, 1642, 448, 461, 463, 464, 314, 314, 314, 322, 322, 314, 322, 322, 322, 322, 322, 322, 322, 322, 461, 461, 461, 476, 476, 476, 473, 448, 476, 473, 473, 476, 473, 473]\n"
          ],
          "name": "stdout"
        }
      ]
    },
    {
      "cell_type": "code",
      "metadata": {
        "id": "S1x65AMAlHUO",
        "colab_type": "code",
        "colab": {
          "base_uri": "https://localhost:8080/",
          "height": 68
        },
        "outputId": "6031af48-cea5-48f0-9586-c784bb21a3e1"
      },
      "source": [
        "np.histogram(Length_CoV,bins = [0, 1*3080 , 2*3080 , 3*3080 ,4*3080,5*3080 ,6*3080, 7*3080 ,8*3080, 9*3080 ,10*3080]) "
      ],
      "execution_count": 16,
      "outputs": [
        {
          "output_type": "execute_result",
          "data": {
            "text/plain": [
              "(array([ 455,   41,    0,    0,    0,    0,    0,    0,   19, 1987]),\n",
              " array([    0,  3080,  6160,  9240, 12320, 15400, 18480, 21560, 24640,\n",
              "        27720, 30800]))"
            ]
          },
          "metadata": {
            "tags": []
          },
          "execution_count": 16
        }
      ]
    },
    {
      "cell_type": "code",
      "metadata": {
        "id": "twkXZZdpfUo9",
        "colab_type": "code",
        "colab": {
          "base_uri": "https://localhost:8080/",
          "height": 318
        },
        "outputId": "78ccdcd9-38b5-47a1-e1eb-a39530bcb44f"
      },
      "source": [
        "from matplotlib import pyplot as plt \n",
        "plt.hist(Length_CoV,bins = [0, 1*3080 , 2*3080 , 3*3080 ,4*3080,5*3080 ,6*3080, 7*3080 ,8*3080, 9*3080 ,10*3080])\n",
        "plt.rc('xtick', labelsize=20) \n",
        "plt.rc('ytick', labelsize=20)  \n",
        "plt.rc('xtick', labelsize=20)    # fontsize of the tick labels\n",
        "plt.rc('ytick', labelsize=20)    # fontsize of the tick labels\n",
        "plt.title(\"Distribution of Length of nucleotides of CoV-2 viruses\", fontsize=20)\n",
        "plt.xlabel('Length of Nucleotides', fontsize=20)\n",
        "plt.ylabel('Number of Viruses', fontsize=20) \n",
        "#plt.yscale('log')\n",
        "plt.show()"
      ],
      "execution_count": 21,
      "outputs": [
        {
          "output_type": "display_data",
          "data": {
            "image/png": "[encoded data removed]",
            "text/plain": [
              "<Figure size 432x288 with 1 Axes>"
            ]
          },
          "metadata": {
            "tags": [],
            "needs_background": "light"
          }
        }
      ]
    },
    {
      "cell_type": "code",
      "metadata": {
        "id": "Dky4x5vek61O",
        "colab_type": "code",
        "colab": {}
      },
      "source": [
        ""
      ],
      "execution_count": 0,
      "outputs": []
    }
  ]
}